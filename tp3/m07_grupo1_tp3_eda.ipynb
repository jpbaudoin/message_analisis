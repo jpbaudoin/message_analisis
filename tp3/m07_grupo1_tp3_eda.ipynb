{
 "cells": [
  {
   "cell_type": "markdown",
   "metadata": {
    "id": "LYvAOR2VzHmW"
   },
   "source": [
    "# M07 - Caracterización y Agrupación de Usuarios en Redes Sociales mediante Análisis de Mensajes"
   ]
  },
  {
   "cell_type": "markdown",
   "metadata": {},
   "source": [
    "Grupo 3:\n",
    "\n",
    ">- Juan Pablo Baudoin\n"
   ]
  },
  {
   "cell_type": "markdown",
   "metadata": {},
   "source": [
    "# Análisis exploratorio"
   ]
  },
  {
   "cell_type": "code",
   "execution_count": 1,
   "metadata": {
    "id": "mlMM0JkSeqkw"
   },
   "outputs": [
    {
     "name": "stdout",
     "output_type": "stream",
     "text": [
      "INFO: Pandarallel will run on 8 workers.\n",
      "INFO: Pandarallel will use standard multiprocessing data transfer (pipe) to transfer data between the main process and workers.\n"
     ]
    }
   ],
   "source": [
    "import matplotlib.pyplot as plt\n",
    "import matplotlib\n",
    "\n",
    "import numpy as np\n",
    "import pandas as pd\n",
    "import seaborn as sns\n",
    "import emoji\n",
    "import io\n",
    "import chardet\n",
    "from unidecode import unidecode\n",
    "# from pycountry import languages\n",
    "# from langid.langid import LanguageIdentifier, model\n",
    "\n",
    "from lib.utils import *\n",
    "from lib.sim import *\n",
    "\n",
    "from pandarallel import pandarallel\n",
    "\n",
    "pandarallel.initialize()\n",
    "sns.set(rc={'figure.figsize':(10,6)})\n",
    "pd.set_option('display.max_rows', 10) # cambiar el número de filas que se mostrarán usando display.max_rows."
   ]
  },
  {
   "cell_type": "code",
   "execution_count": 2,
   "metadata": {},
   "outputs": [],
   "source": [
    "# upgrade pip\n",
    "#! pip install --upgrade pip -q\n",
    "#! pip install emoji pandarallel matplotlib numpy pandas chardet unidecode\n",
    "# ! pip install seaborn -q\n",
    "#! pip install networkx -q\n",
    "#! pip install langdetect -q\n",
    "# ! pip install scipy -q\n",
    "# ! pip install scikit-learn -q\n",
    "\n"
   ]
  },
  {
   "cell_type": "markdown",
   "metadata": {},
   "source": [
    "## 1. Lectura de datos"
   ]
  },
  {
   "cell_type": "code",
   "execution_count": 3,
   "metadata": {
    "id": "__ECd-9myy6k"
   },
   "outputs": [
    {
     "name": "stdout",
     "output_type": "stream",
     "text": [
      "<class 'pandas.core.frame.DataFrame'>\n",
      "RangeIndex: 13913 entries, 0 to 13912\n",
      "Data columns (total 9 columns):\n",
      " #   Column            Non-Null Count  Dtype \n",
      "---  ------            --------------  ----- \n",
      " 0   signal_id         13913 non-null  int64 \n",
      " 1   source_posted_at  13913 non-null  object\n",
      " 2   message_text      13913 non-null  object\n",
      " 3   commodity         13913 non-null  object\n",
      " 4   trade_type        13902 non-null  object\n",
      " 5   username          8867 non-null   object\n",
      " 6   title             13913 non-null  object\n",
      " 7   chat_id           13913 non-null  int64 \n",
      " 8   language          13913 non-null  object\n",
      "dtypes: int64(2), object(7)\n",
      "memory usage: 978.4+ KB\n"
     ]
    }
   ],
   "source": [
    "base_name = \"filtered_data_2\"\n",
    "src_ds = f\"data/{base_name}.csv\"\n",
    "df_ori = pd.read_csv(src_ds)\n",
    "df_ori.info()"
   ]
  },
  {
   "cell_type": "code",
   "execution_count": 4,
   "metadata": {},
   "outputs": [],
   "source": [
    "df_ori.rename(columns={'username':'telegram_user_id'}, inplace=True)\n",
    "\n",
    "# Creamos una columna id con el índice de la tabla\n",
    "df_ori['id_msg'] = df_ori.index\n"
   ]
  },
  {
   "cell_type": "code",
   "execution_count": 5,
   "metadata": {},
   "outputs": [
    {
     "data": {
      "text/html": [
       "<div>\n",
       "<style scoped>\n",
       "    .dataframe tbody tr th:only-of-type {\n",
       "        vertical-align: middle;\n",
       "    }\n",
       "\n",
       "    .dataframe tbody tr th {\n",
       "        vertical-align: top;\n",
       "    }\n",
       "\n",
       "    .dataframe thead th {\n",
       "        text-align: right;\n",
       "    }\n",
       "</style>\n",
       "<table border=\"1\" class=\"dataframe\">\n",
       "  <thead>\n",
       "    <tr style=\"text-align: right;\">\n",
       "      <th></th>\n",
       "      <th>signal_id</th>\n",
       "      <th>source_posted_at</th>\n",
       "      <th>message_text</th>\n",
       "      <th>commodity</th>\n",
       "      <th>trade_type</th>\n",
       "      <th>telegram_user_id</th>\n",
       "      <th>title</th>\n",
       "      <th>chat_id</th>\n",
       "      <th>language</th>\n",
       "      <th>id_msg</th>\n",
       "    </tr>\n",
       "  </thead>\n",
       "  <tbody>\n",
       "    <tr>\n",
       "      <th>0</th>\n",
       "      <td>34023</td>\n",
       "      <td>2022-05-05 12:16:04+00</td>\n",
       "      <td>꧁༺ 𝓢𝓒𝓐𝓛𝓟𝓘𝓝𝓖 300 ༻꧂\\n\\n✬S◦C°A˚L°P◦I... STORJUSD...</td>\n",
       "      <td>STORJ</td>\n",
       "      <td>buy</td>\n",
       "      <td>Scalping_300</td>\n",
       "      <td>Scalping_300%</td>\n",
       "      <td>79</td>\n",
       "      <td>es</td>\n",
       "      <td>0</td>\n",
       "    </tr>\n",
       "    <tr>\n",
       "      <th>1</th>\n",
       "      <td>34035</td>\n",
       "      <td>2022-07-03 01:56:33+00</td>\n",
       "      <td>꧁༺ 𝓢𝓒𝓐𝓛𝓟𝓘𝓝𝓖 300 ༻꧂\\n\\n✬S◦C°A˚L°P◦I... VETUSDT ...</td>\n",
       "      <td>VET</td>\n",
       "      <td>buy</td>\n",
       "      <td>Scalping_300</td>\n",
       "      <td>Scalping_300%</td>\n",
       "      <td>79</td>\n",
       "      <td>es</td>\n",
       "      <td>1</td>\n",
       "    </tr>\n",
       "    <tr>\n",
       "      <th>2</th>\n",
       "      <td>17390</td>\n",
       "      <td>2022-10-10 01:39:15+00</td>\n",
       "      <td>Pair : BTCUSDT \\nLONG\\nLeverage : Cross 20x\\nE...</td>\n",
       "      <td>BTC</td>\n",
       "      <td>buy</td>\n",
       "      <td>CryptoCashFlowReal</td>\n",
       "      <td>Crypto Cash flow</td>\n",
       "      <td>101</td>\n",
       "      <td>es</td>\n",
       "      <td>2</td>\n",
       "    </tr>\n",
       "    <tr>\n",
       "      <th>3</th>\n",
       "      <td>12833</td>\n",
       "      <td>2022-10-16 19:06:39+00</td>\n",
       "      <td>🥇 #OM (Binance)\\n\\n🎖Buy Range : 205 - 242\\n\\n🎯...</td>\n",
       "      <td>OM</td>\n",
       "      <td>buy</td>\n",
       "      <td>bitcoinpumpgroup</td>\n",
       "      <td>Bitcoin Pump Group</td>\n",
       "      <td>5</td>\n",
       "      <td>es</td>\n",
       "      <td>3</td>\n",
       "    </tr>\n",
       "    <tr>\n",
       "      <th>4</th>\n",
       "      <td>19038</td>\n",
       "      <td>2022-10-07 05:32:36+00</td>\n",
       "      <td>🌹 #NEO/USDT\\n\\n🟢 LONG\\n\\n✅ Entry: 8.45-8.28\\n\\...</td>\n",
       "      <td>NEO</td>\n",
       "      <td>buy</td>\n",
       "      <td>Gtrading7</td>\n",
       "      <td>GLOBAL TRADING 🌍🌍</td>\n",
       "      <td>206</td>\n",
       "      <td>es</td>\n",
       "      <td>4</td>\n",
       "    </tr>\n",
       "    <tr>\n",
       "      <th>...</th>\n",
       "      <td>...</td>\n",
       "      <td>...</td>\n",
       "      <td>...</td>\n",
       "      <td>...</td>\n",
       "      <td>...</td>\n",
       "      <td>...</td>\n",
       "      <td>...</td>\n",
       "      <td>...</td>\n",
       "      <td>...</td>\n",
       "      <td>...</td>\n",
       "    </tr>\n",
       "    <tr>\n",
       "      <th>13908</th>\n",
       "      <td>1145165</td>\n",
       "      <td>2022-11-02 18:45:49+00</td>\n",
       "      <td>CAPTION: SHORT ⬇️\\n\\nSHIB1000 USDT\\n\\nENTRY: 0...</td>\n",
       "      <td>SHIB</td>\n",
       "      <td>buy</td>\n",
       "      <td>BybitItalian</td>\n",
       "      <td>Bybit Italiano</td>\n",
       "      <td>3745</td>\n",
       "      <td>es</td>\n",
       "      <td>13908</td>\n",
       "    </tr>\n",
       "    <tr>\n",
       "      <th>13909</th>\n",
       "      <td>1145214</td>\n",
       "      <td>2022-10-29 01:38:18+00</td>\n",
       "      <td>CAPTION: LONG ⬆️\\n\\nMKR USDT\\n\\nENTRY: 884.3\\n...</td>\n",
       "      <td>MKR</td>\n",
       "      <td>buy</td>\n",
       "      <td>BybitItalian</td>\n",
       "      <td>Bybit Italiano</td>\n",
       "      <td>3745</td>\n",
       "      <td>es</td>\n",
       "      <td>13909</td>\n",
       "    </tr>\n",
       "    <tr>\n",
       "      <th>13910</th>\n",
       "      <td>1145295</td>\n",
       "      <td>2022-11-02 17:35:21+00</td>\n",
       "      <td>CAPTION: SHORT ⬇️\\n\\nSHIB1000 USDT\\n\\nENTRY: 0...</td>\n",
       "      <td>SHIB</td>\n",
       "      <td>buy</td>\n",
       "      <td>BybitItalian</td>\n",
       "      <td>Bybit Italiano</td>\n",
       "      <td>3745</td>\n",
       "      <td>es</td>\n",
       "      <td>13910</td>\n",
       "    </tr>\n",
       "    <tr>\n",
       "      <th>13911</th>\n",
       "      <td>1473076</td>\n",
       "      <td>2022-09-17 02:39:05+00</td>\n",
       "      <td>⚡️ #MATIC/USDT\\n\\n🟢 Long\\n\\n💠 LEVERAGE : 20x\\n...</td>\n",
       "      <td>MATIC</td>\n",
       "      <td>buy</td>\n",
       "      <td>CoinExGlobalArabic</td>\n",
       "      <td>CoinEx Arabic-تداول الكريبتو بكل سهولة</td>\n",
       "      <td>4041</td>\n",
       "      <td>es</td>\n",
       "      <td>13911</td>\n",
       "    </tr>\n",
       "    <tr>\n",
       "      <th>13912</th>\n",
       "      <td>1473446</td>\n",
       "      <td>2022-03-29 17:09:11+00</td>\n",
       "      <td>CAPTION: Currency: \\n#uma\\nEntry: $7.95\\nTarge...</td>\n",
       "      <td>UMA</td>\n",
       "      <td>buy</td>\n",
       "      <td>CoinExGlobalArabic</td>\n",
       "      <td>CoinEx Arabic-تداول الكريبتو بكل سهولة</td>\n",
       "      <td>4041</td>\n",
       "      <td>es</td>\n",
       "      <td>13912</td>\n",
       "    </tr>\n",
       "  </tbody>\n",
       "</table>\n",
       "<p>13913 rows × 10 columns</p>\n",
       "</div>"
      ],
      "text/plain": [
       "       signal_id        source_posted_at  \\\n",
       "0          34023  2022-05-05 12:16:04+00   \n",
       "1          34035  2022-07-03 01:56:33+00   \n",
       "2          17390  2022-10-10 01:39:15+00   \n",
       "3          12833  2022-10-16 19:06:39+00   \n",
       "4          19038  2022-10-07 05:32:36+00   \n",
       "...          ...                     ...   \n",
       "13908    1145165  2022-11-02 18:45:49+00   \n",
       "13909    1145214  2022-10-29 01:38:18+00   \n",
       "13910    1145295  2022-11-02 17:35:21+00   \n",
       "13911    1473076  2022-09-17 02:39:05+00   \n",
       "13912    1473446  2022-03-29 17:09:11+00   \n",
       "\n",
       "                                            message_text commodity trade_type  \\\n",
       "0      ꧁༺ 𝓢𝓒𝓐𝓛𝓟𝓘𝓝𝓖 300 ༻꧂\\n\\n✬S◦C°A˚L°P◦I... STORJUSD...     STORJ        buy   \n",
       "1      ꧁༺ 𝓢𝓒𝓐𝓛𝓟𝓘𝓝𝓖 300 ༻꧂\\n\\n✬S◦C°A˚L°P◦I... VETUSDT ...       VET        buy   \n",
       "2      Pair : BTCUSDT \\nLONG\\nLeverage : Cross 20x\\nE...       BTC        buy   \n",
       "3      🥇 #OM (Binance)\\n\\n🎖Buy Range : 205 - 242\\n\\n🎯...        OM        buy   \n",
       "4      🌹 #NEO/USDT\\n\\n🟢 LONG\\n\\n✅ Entry: 8.45-8.28\\n\\...       NEO        buy   \n",
       "...                                                  ...       ...        ...   \n",
       "13908  CAPTION: SHORT ⬇️\\n\\nSHIB1000 USDT\\n\\nENTRY: 0...      SHIB        buy   \n",
       "13909  CAPTION: LONG ⬆️\\n\\nMKR USDT\\n\\nENTRY: 884.3\\n...       MKR        buy   \n",
       "13910  CAPTION: SHORT ⬇️\\n\\nSHIB1000 USDT\\n\\nENTRY: 0...      SHIB        buy   \n",
       "13911  ⚡️ #MATIC/USDT\\n\\n🟢 Long\\n\\n💠 LEVERAGE : 20x\\n...     MATIC        buy   \n",
       "13912  CAPTION: Currency: \\n#uma\\nEntry: $7.95\\nTarge...       UMA        buy   \n",
       "\n",
       "         telegram_user_id                                   title  chat_id  \\\n",
       "0            Scalping_300                           Scalping_300%       79   \n",
       "1            Scalping_300                           Scalping_300%       79   \n",
       "2      CryptoCashFlowReal                        Crypto Cash flow      101   \n",
       "3        bitcoinpumpgroup                      Bitcoin Pump Group        5   \n",
       "4               Gtrading7                       GLOBAL TRADING 🌍🌍      206   \n",
       "...                   ...                                     ...      ...   \n",
       "13908        BybitItalian                          Bybit Italiano     3745   \n",
       "13909        BybitItalian                          Bybit Italiano     3745   \n",
       "13910        BybitItalian                          Bybit Italiano     3745   \n",
       "13911  CoinExGlobalArabic  CoinEx Arabic-تداول الكريبتو بكل سهولة     4041   \n",
       "13912  CoinExGlobalArabic  CoinEx Arabic-تداول الكريبتو بكل سهولة     4041   \n",
       "\n",
       "      language  id_msg  \n",
       "0           es       0  \n",
       "1           es       1  \n",
       "2           es       2  \n",
       "3           es       3  \n",
       "4           es       4  \n",
       "...        ...     ...  \n",
       "13908       es   13908  \n",
       "13909       es   13909  \n",
       "13910       es   13910  \n",
       "13911       es   13911  \n",
       "13912       es   13912  \n",
       "\n",
       "[13913 rows x 10 columns]"
      ]
     },
     "execution_count": 5,
     "metadata": {},
     "output_type": "execute_result"
    }
   ],
   "source": [
    "df_ori"
   ]
  },
  {
   "cell_type": "code",
   "execution_count": 6,
   "metadata": {},
   "outputs": [
    {
     "name": "stdout",
     "output_type": "stream",
     "text": [
      "File data/filtered_data_2_enhanced.csv already exists. Loading it.\n"
     ]
    }
   ],
   "source": [
    "# check if a file exists\n",
    "import os\n",
    "# Vamos a trabajar con una copia de los datos y generamos un archivo nuevo en el que adicionaremos \n",
    "# las columnas con información adicional.\n",
    "work_file = f\"data/{base_name}_enhanced.csv\"\n",
    "if not os.path.exists(work_file):\n",
    "    print(f\"Creating {work_file}\")\n",
    "    df_ori.to_csv(work_file, index=False)\n",
    "    df = df_ori.copy()\n",
    "else:\n",
    "    print(f\"File {work_file} already exists. Loading it.\")\n",
    "    df = pd.read_csv(work_file)\n",
    "    df['date_source_posted_at'] = pd.to_datetime(df['source_posted_at'])\n",
    "\n"
   ]
  },
  {
   "cell_type": "markdown",
   "metadata": {},
   "source": [
    "## 2. Análisis de datos categóricos y texto\n",
    "En una primera revisión vamos a ver:\n",
    "- Valores nulos\n",
    "- Frecuencias de variables categóricas: commodity, trade_type, chat_id, telegram_user_id\n",
    "- Análisis del campo message_text: mediante una inspección de datos muestral se ve que existen varios idiomas, que se tienen múltiples encodings y se detecta el uso de emojis. Comportamiento esperado en mensajes de canales de chat en aplicaciones como telegram o whatsapp. Para el análisis del campo message_text, generaremos información adicional sobre el mismo:\n",
    "  * Idioma\n",
    "  * longitud caracteres\n",
    "  * Numero de palabras\n",
    "  * Cantidad de saltos de linea\n",
    "  * Encodings\n",
    "\n"
   ]
  },
  {
   "cell_type": "code",
   "execution_count": 7,
   "metadata": {},
   "outputs": [
    {
     "data": {
      "text/html": [
       "<div>\n",
       "<style scoped>\n",
       "    .dataframe tbody tr th:only-of-type {\n",
       "        vertical-align: middle;\n",
       "    }\n",
       "\n",
       "    .dataframe tbody tr th {\n",
       "        vertical-align: top;\n",
       "    }\n",
       "\n",
       "    .dataframe thead th {\n",
       "        text-align: right;\n",
       "    }\n",
       "</style>\n",
       "<table border=\"1\" class=\"dataframe\">\n",
       "  <thead>\n",
       "    <tr style=\"text-align: right;\">\n",
       "      <th></th>\n",
       "      <th>signal_id</th>\n",
       "      <th>counts</th>\n",
       "    </tr>\n",
       "  </thead>\n",
       "  <tbody>\n",
       "    <tr>\n",
       "      <th>13912</th>\n",
       "      <td>1473446</td>\n",
       "      <td>1</td>\n",
       "    </tr>\n",
       "    <tr>\n",
       "      <th>0</th>\n",
       "      <td>10</td>\n",
       "      <td>1</td>\n",
       "    </tr>\n",
       "    <tr>\n",
       "      <th>1</th>\n",
       "      <td>12</td>\n",
       "      <td>1</td>\n",
       "    </tr>\n",
       "    <tr>\n",
       "      <th>2</th>\n",
       "      <td>27</td>\n",
       "      <td>1</td>\n",
       "    </tr>\n",
       "    <tr>\n",
       "      <th>3</th>\n",
       "      <td>28</td>\n",
       "      <td>1</td>\n",
       "    </tr>\n",
       "    <tr>\n",
       "      <th>...</th>\n",
       "      <td>...</td>\n",
       "      <td>...</td>\n",
       "    </tr>\n",
       "    <tr>\n",
       "      <th>13</th>\n",
       "      <td>106</td>\n",
       "      <td>1</td>\n",
       "    </tr>\n",
       "    <tr>\n",
       "      <th>12</th>\n",
       "      <td>104</td>\n",
       "      <td>1</td>\n",
       "    </tr>\n",
       "    <tr>\n",
       "      <th>11</th>\n",
       "      <td>98</td>\n",
       "      <td>1</td>\n",
       "    </tr>\n",
       "    <tr>\n",
       "      <th>10</th>\n",
       "      <td>97</td>\n",
       "      <td>1</td>\n",
       "    </tr>\n",
       "    <tr>\n",
       "      <th>9</th>\n",
       "      <td>96</td>\n",
       "      <td>1</td>\n",
       "    </tr>\n",
       "  </tbody>\n",
       "</table>\n",
       "<p>13913 rows × 2 columns</p>\n",
       "</div>"
      ],
      "text/plain": [
       "       signal_id  counts\n",
       "13912    1473446       1\n",
       "0             10       1\n",
       "1             12       1\n",
       "2             27       1\n",
       "3             28       1\n",
       "...          ...     ...\n",
       "13           106       1\n",
       "12           104       1\n",
       "11            98       1\n",
       "10            97       1\n",
       "9             96       1\n",
       "\n",
       "[13913 rows x 2 columns]"
      ]
     },
     "execution_count": 7,
     "metadata": {},
     "output_type": "execute_result"
    }
   ],
   "source": [
    "# group df by id and count the number of rows\n",
    "df_grouped_id = df.groupby('signal_id').size().reset_index(name='counts')\n",
    "# sort the values by counts\n",
    "df_grouped_id = df_grouped_id.sort_values(by='counts', ascending=False)\n",
    "df_grouped_id"
   ]
  },
  {
   "cell_type": "markdown",
   "metadata": {},
   "source": [
    "### 2.1 Nulos"
   ]
  },
  {
   "cell_type": "code",
   "execution_count": 8,
   "metadata": {},
   "outputs": [
    {
     "name": "stdout",
     "output_type": "stream",
     "text": [
      "############\n",
      "Columns with missing values\n",
      "    telegram_user_id: 36.27%\n",
      "    trade_type: 0.08%\n",
      "############\n",
      "Columns with no missing values\n",
      "    source_posted_at\n",
      "    signal_id\n",
      "    commodity\n",
      "    message_text\n",
      "    title\n",
      "    chat_id\n",
      "    language\n",
      "    id_msg\n"
     ]
    }
   ],
   "source": [
    "# get the percentage of missing values in the dataset\n",
    "missing_values = df_ori.isnull().mean() * 100\n",
    "# sort the columns by the percentage of missing values\n",
    "missing_values = missing_values.sort_values(ascending=False)\n",
    "\n",
    "filter_columns = missing_values > 0\n",
    "\n",
    "print(\"############\")\n",
    "print(\"Columns with missing values\")\n",
    "for column, percentage in  missing_values[filter_columns].items():\n",
    "    print(f\"    {column}: {percentage:.2f}%\")\n",
    "\n",
    "\n",
    "filter_columns = missing_values == 0\n",
    "print(\"############\")\n",
    "print(\"Columns with no missing values\")\n",
    "for column, percentage in  missing_values[filter_columns].items():\n",
    "    print(f\"    {column}\")"
   ]
  },
  {
   "cell_type": "code",
   "execution_count": 9,
   "metadata": {},
   "outputs": [
    {
     "name": "stdout",
     "output_type": "stream",
     "text": [
      "<class 'pandas.core.frame.DataFrame'>\n",
      "RangeIndex: 13913 entries, 0 to 13912\n",
      "Data columns (total 17 columns):\n",
      " #   Column                   Non-Null Count  Dtype              \n",
      "---  ------                   --------------  -----              \n",
      " 0   signal_id                13913 non-null  int64              \n",
      " 1   source_posted_at         13913 non-null  object             \n",
      " 2   message_text             13913 non-null  object             \n",
      " 3   commodity                13913 non-null  object             \n",
      " 4   trade_type               13902 non-null  object             \n",
      " 5   telegram_user_id         8867 non-null   object             \n",
      " 6   title                    13913 non-null  object             \n",
      " 7   chat_id                  13913 non-null  int64              \n",
      " 8   language                 13913 non-null  object             \n",
      " 9   id_msg                   13913 non-null  int64              \n",
      " 10  date_source_posted_at    13913 non-null  datetime64[ns, UTC]\n",
      " 11  message_text_clean       13913 non-null  object             \n",
      " 12  message_encoding         13913 non-null  object             \n",
      " 13  message_text_clean_utf8  13913 non-null  object             \n",
      " 14  message_length           13913 non-null  int64              \n",
      " 15  message_words            13913 non-null  int64              \n",
      " 16  message_lbr              13913 non-null  int64              \n",
      "dtypes: datetime64[ns, UTC](1), int64(6), object(10)\n",
      "memory usage: 1.8+ MB\n"
     ]
    }
   ],
   "source": [
    "# Excluir los registros sin chat_id\n",
    "df = df.dropna(subset=['chat_id'])\n",
    "df = df.dropna(subset=['message_text'])\n",
    "df.info()\n"
   ]
  },
  {
   "cell_type": "markdown",
   "metadata": {},
   "source": [
    "## Filtado de mensajes en ingles"
   ]
  },
  {
   "cell_type": "code",
   "execution_count": 10,
   "metadata": {},
   "outputs": [
    {
     "name": "stdout",
     "output_type": "stream",
     "text": [
      "['es']\n"
     ]
    }
   ],
   "source": [
    "# List the languages in the datase language column\n",
    "languages = df['language'].unique()\n",
    "print(languages)\n"
   ]
  },
  {
   "cell_type": "code",
   "execution_count": 11,
   "metadata": {},
   "outputs": [
    {
     "name": "stdout",
     "output_type": "stream",
     "text": [
      "Numero de mensajes en ingles: 13913\n"
     ]
    }
   ],
   "source": [
    "# filter the messages with language 'en'\n",
    "# flt_en = df['language'] == 'en'\n",
    "flt_en = df['language'] == 'es'\n",
    "df = df[flt_en]\n",
    "\n",
    "print(f\"Numero de mensajes en ingles: {df.shape[0]}\")"
   ]
  },
  {
   "cell_type": "markdown",
   "metadata": {},
   "source": [
    "### 2.2. Frecuencias simples"
   ]
  },
  {
   "cell_type": "markdown",
   "metadata": {},
   "source": [
    "#### 2.2.1. Top 10 de conteos"
   ]
  },
  {
   "cell_type": "code",
   "execution_count": 12,
   "metadata": {},
   "outputs": [
    {
     "name": "stdout",
     "output_type": "stream",
     "text": [
      "Top 11 Currency (commodity):\n",
      "01 - BTC: 557 \t (4.0% - 4.00%)\n",
      "02 - ETH: 388 \t (2.79% - 6.79%)\n",
      "03 - LTC: 235 \t (1.69% - 8.48%)\n",
      "04 - BNB: 218 \t (1.57% - 10.05%)\n",
      "05 - DYDX: 214 \t (1.54% - 11.59%)\n",
      "06 - TRX: 213 \t (1.53% - 13.12%)\n",
      "07 - GALA: 194 \t (1.39% - 14.51%)\n",
      "08 - AXS: 181 \t (1.3% - 15.81%)\n",
      "09 - YFI: 173 \t (1.24% - 17.05%)\n",
      "10 - MATIC: 163 \t (1.17% - 18.22%)\n",
      "11 - MASK: 162 \t (1.16% - 19.38%)\n",
      "--------\n",
      "Top 11 Canal (chat_id):\n",
      "01 - 79: 2599 \t (18.68% - 18.68%)\n",
      "02 - 169: 2409 \t (17.31% - 35.99%)\n",
      "03 - 101: 1427 \t (10.26% - 46.25%)\n",
      "04 - 5: 1134 \t (8.15% - 54.40%)\n",
      "05 - 180: 870 \t (6.25% - 60.65%)\n",
      "06 - 71: 723 \t (5.2% - 65.85%)\n",
      "07 - 2131: 440 \t (3.16% - 69.01%)\n",
      "08 - 78: 416 \t (2.99% - 72.00%)\n",
      "09 - 66: 378 \t (2.72% - 74.72%)\n",
      "10 - 206: 290 \t (2.08% - 76.80%)\n",
      "11 - 2269: 283 \t (2.03% - 78.83%)\n",
      "--------\n",
      "Top 11 Users (telegram_user_id):\n",
      "01 - N/A: 5046 \t (36.27%  - 36.27%) \t (NaN)\n",
      "02 - Scalping_300: 2599 \t (18.68%  - 54.95%) \t (W/NaN 29.31% - 29.31%)\n",
      "03 - CryptoCashFlowReal: 1427 \t (10.26%  - 65.21%) \t (W/NaN 16.09% - 45.40%)\n",
      "04 - bitcoinpumpgroup: 1134 \t (8.15%  - 73.36%) \t (W/NaN 12.79% - 58.19%)\n",
      "05 - cryptonautahungary: 440 \t (3.16%  - 76.52%) \t (W/NaN 4.96% - 63.15%)\n",
      "06 - Gtrading7: 290 \t (2.08%  - 78.60%) \t (W/NaN 3.27% - 66.42%)\n",
      "07 - CryptoClassics: 283 \t (2.03%  - 80.63%) \t (W/NaN 3.19% - 69.61%)\n",
      "08 - cryptofameo: 215 \t (1.55%  - 82.18%) \t (W/NaN 2.42% - 72.03%)\n",
      "09 - crypto_signals_binance_pump: 208 \t (1.5%  - 83.68%) \t (W/NaN 2.35% - 74.38%)\n",
      "10 - bitcoin_pump_chanel: 184 \t (1.32%  - 85.00%) \t (W/NaN 2.08% - 76.46%)\n",
      "11 - Bitstamp_1: 179 \t (1.29%  - 86.29%) \t (W/NaN 2.02% - 78.48%)\n",
      "--------\n",
      "Top 11 Tipo Operación (trade_type):\n",
      "01 - buy: 13041 \t (93.73%  - 93.73%) \t (W/NaN 93.81% - 93.81%)\n",
      "02 - sell: 861 \t (6.19%  - 99.92%) \t (W/NaN 6.19% - 100.00%)\n",
      "03 - N/A: 11 \t (0.08%  - 100.00%) \t (NaN)\n",
      "--------\n"
     ]
    }
   ],
   "source": [
    "### Frecuencia de variables categóricas\n",
    "print_top(df, 'commodity', \"Currency\", top=11)\n",
    "print(\"--------\")\n",
    "\n",
    "print_top(df, 'chat_id', \"Canal\", top=11)\n",
    "print(\"--------\")\n",
    "\n",
    "print_top(df, 'telegram_user_id', \"Users\", top=11)\n",
    "print(\"--------\")\n",
    "\n",
    "print_top(df, 'trade_type', \"Tipo Operación\", top=11)\n",
    "print(\"--------\")\n"
   ]
  },
  {
   "cell_type": "code",
   "execution_count": 13,
   "metadata": {},
   "outputs": [
    {
     "data": {
      "image/png": "[encoded data removed]",
      "text/plain": [
       "<Figure size 1500x1000 with 4 Axes>"
      ]
     },
     "metadata": {},
     "output_type": "display_data"
    }
   ],
   "source": [
    "columns_to_plot = ['commodity', 'chat_id', 'telegram_user_id', 'trade_type']\n",
    "fig, axes = plt.subplots(2, 2, figsize=(15, 10))\n",
    "\n",
    "axes = axes.flatten()\n",
    "\n",
    "for i, column in enumerate(columns_to_plot):\n",
    "\n",
    "    value_counts = df[column].astype(str).value_counts(dropna=False).head(10)\n",
    "    \n",
    "    # Convert value_counts to a DataFrame\n",
    "    value_counts_df = value_counts.reset_index()\n",
    "    value_counts_df.columns = [column, 'count']\n",
    "    \n",
    "    # Create the barplot\n",
    "    sns.barplot(data=value_counts_df, x='count', y=column, ax=axes[i], orient='h')\n",
    "    axes[i].set_title(f'Top 10 {column} por cantidad de mensajes')\n",
    "    axes[i].set_xlabel('Count')\n",
    "    axes[i].set_ylabel(column)\n",
    "\n",
    "# Adjust layout\n",
    "plt.tight_layout()\n",
    "plt.show()"
   ]
  },
  {
   "cell_type": "markdown",
   "metadata": {},
   "source": [
    "#### 2.2.2. Cruce de variables `telegram_user_id` y `chat_id`"
   ]
  },
  {
   "cell_type": "code",
   "execution_count": 14,
   "metadata": {},
   "outputs": [
    {
     "name": "stdout",
     "output_type": "stream",
     "text": [
      "Number of chat_ids: 128\n",
      "Number of users: 110\n"
     ]
    }
   ],
   "source": [
    "# count the number of chat_ids\n",
    "chat_ids = df['chat_id'].nunique()\n",
    "print(f\"Number of chat_ids: {chat_ids}\")\n",
    "\n",
    "# count the number of users\n",
    "users = df['telegram_user_id'].nunique()\n",
    "print(f\"Number of users: {users}\")\n",
    "\n"
   ]
  },
  {
   "cell_type": "code",
   "execution_count": 15,
   "metadata": {},
   "outputs": [
    {
     "name": "stdout",
     "output_type": "stream",
     "text": [
      "Number of chats with a single user: 110 (85.94%)\n",
      "Number of users with a single chat: 110 (100.00%)\n"
     ]
    }
   ],
   "source": [
    "# Canales con un solo usuario\n",
    "chat_users = df.groupby('chat_id')['telegram_user_id'].nunique()\n",
    "chat_users = chat_users.sort_values(ascending=False)\n",
    "single_user_chats = chat_users[chat_users == 1]\n",
    "print(f\"Number of chats with a single user: {single_user_chats.count()} ({single_user_chats.count()/chat_ids:.2%})\")\n",
    "\n",
    "\n",
    "# Usuarios con un solo canal\n",
    "user_chats = df.groupby('telegram_user_id')['chat_id'].nunique()\n",
    "user_chats = user_chats.sort_values(ascending=False)\n",
    "single_chat_users = user_chats[user_chats == 1]\n",
    "print(f\"Number of users with a single chat: {single_chat_users.count()} ({single_chat_users.count()/users:.2%})\")\n",
    "\n",
    "\n",
    "# Distribucion de numero de mensajes por canal\n"
   ]
  },
  {
   "cell_type": "code",
   "execution_count": 16,
   "metadata": {},
   "outputs": [
    {
     "name": "stdout",
     "output_type": "stream",
     "text": [
      "Number of chats with more than one user: 0\n",
      "Number of chats with more than one user: 0.00%\n",
      "Series([], Name: telegram_user_id, dtype: int64)\n",
      "--------\n",
      "Number of users with more than one chat: 0\n",
      "Number of users with more than one chat: 0.00%\n",
      "Series([], Name: chat_id, dtype: int64)\n"
     ]
    }
   ],
   "source": [
    "# Canales con más de un usuario sort by number of users\n",
    "multi_user_chats = chat_users[chat_users > 1]\n",
    "\n",
    "print(f\"Number of chats with more than one user: {multi_user_chats.count()}\")\n",
    "print(f\"Number of chats with more than one user: {multi_user_chats.count()/chat_ids:.2%}\")\n",
    "print(multi_user_chats)\n",
    "\n",
    "print(\"--------\")\n",
    "\n",
    "# Usuarios con más de un canal\n",
    "multi_chat_users = user_chats[user_chats > 1]\n",
    "print(f\"Number of users with more than one chat: {multi_chat_users.count()}\")\n",
    "print(f\"Number of users with more than one chat: {multi_chat_users.count()/users:.2%}\")\n",
    "print(multi_chat_users)\n",
    "\n",
    "\n"
   ]
  },
  {
   "cell_type": "markdown",
   "metadata": {},
   "source": [
    "### 2.3. Análisis del campo message_text\n",
    "#### 2.3.1. Limpieza de datos y enriquecimiento simple\n",
    "\n",
    "Para continuar con el análisis exploratorio, como indicamos antes, necesitamos realizar una limpieza y enriequecimiento de datos inicial. Vamos a proceder a adicionar las siguientes columnas:\n",
    "- date_source_posted_at: transformación del campo date_source a formato fecha\n",
    "- message_text_clean: aplicar las siguentes transformaciones al message_text\n",
    "    - Clean_lbr: consolidar saltos de linea repetidos en uno solo\n",
    "    - Clean emojis: Remover los emojis\n",
    "- message_text_clean_utf8: convertir message_text_clean a encoding utf8, cuando no sea utf8 o ascii.\n",
    "- message_length: Contar los caracteres de linea de message_text_clean_utf8\n",
    "- message_words: Contar las palabras en el campo message_text_clean_utf8\n",
    "- message_lbr: Contar los salos de linea de message_text_clean_utf8\n",
    "- message_encoding2: identificar el encoding de message_text_clean_utf8\n"
   ]
  },
  {
   "cell_type": "code",
   "execution_count": 17,
   "metadata": {},
   "outputs": [],
   "source": [
    "def clean_lbr(text):\n",
    "    # Replace continuous line breaks with a single line break\n",
    "\n",
    "    # df['message_text_clean_utf8'] = df['message_text_clean_utf8'].parallel_apply\n",
    "    # (lambda x: '\\n'.join(line.strip() for line in x.splitlines() if line.strip()))\n",
    "\n",
    "    try:\n",
    "        cleaned_text = '\\n'.join(line.strip() for line in text.splitlines() if line.strip())\n",
    "    except Exception as e:\n",
    "        print(text, type(text))\n",
    "        print(e)\n",
    "        cleaned_text = text\n",
    "        raise e\n",
    "    return cleaned_text\n",
    "    "
   ]
  },
  {
   "cell_type": "code",
   "execution_count": 18,
   "metadata": {},
   "outputs": [],
   "source": [
    "force_process = False\n",
    "\n",
    "if 'message_length' not in df.columns or force_process :\n",
    "\n",
    "    df['date_source_posted_at'] = pd.to_datetime(df['source_posted_at'])\n",
    "\n",
    "    # sort the data by chat_id and date_source_posted_at\n",
    "    df = df.sort_values(by=['chat_id', 'date_source_posted_at'])\n",
    "\n",
    "    ### Limpieza sobre el encoding original de los mensajes ###\n",
    "    ###########################################################\n",
    "\n",
    "    # Eliminar emojis y añadir columna message_no_emoji\n",
    "    print(\"Cleaning Emojis\")\n",
    "    df['message_text_clean'] = df['message_text'].parallel_apply(remove_emojis).str.strip().str.lower()\n",
    "\n",
    "    # # Detect the encoding of messages in the field message_text_clean of type string\\\n",
    "    print(\"Detecting encoding\")\n",
    "    df['message_encoding'] = df['message_text_clean'].parallel_apply(lambda x: chardet.detect(x.encode())['encoding'])\n",
    "\n",
    "\n",
    "    ### Limpieza sobre el encoding utf8 ###\n",
    "    #######################################\n",
    "    df['message_text_clean_utf8'] = df['message_text_clean']\n",
    "\n",
    "    # # convert the all the messages to utf-8 where the encoding is different form utf-8\n",
    "    print(\"Convert to utf-8\")\n",
    "    flt = df['message_encoding'] != 'utf-8'\n",
    "    df.loc[flt, 'message_text_clean_utf8'] = df[flt]['message_text_clean'].apply(lambda x: unidecode(x))\n",
    "\n",
    "    # print(\"Detecting encoding on new utf-8 messages\")\n",
    "    # df['message_encoding2'] = df['message_text_clean_utf8'].parallel_apply(lambda x: chardet.detect(x.encode())['encoding'])\n",
    "\n",
    "    # Trim and remove multiple line breaks\n",
    "    print(\"Cleaning LBR\")\n",
    "    df['message_text_clean_utf8'] = df['message_text_clean_utf8'].parallel_apply(clean_lbr)\n",
    "\n",
    "    # Añadir columna con la longitud del mensaje sin emojis\n",
    "    print(\"Checking message length\")\n",
    "    df['message_length'] = df['message_text_clean_utf8'].str.len()\n",
    "\n",
    "    # Añadir columna con el número de palabras\n",
    "    print(\"Checking message words\")\n",
    "    df['message_words'] = df['message_text_clean_utf8'].parallel_apply(lambda x: len(x.split()))\n",
    "\n",
    "    # Añadir columna con el número de saltos de línea\n",
    "    print(\"Checking message LBRs\")\n",
    "    df['message_lbr'] = df['message_text_clean_utf8'].parallel_apply(count_line_breaks)\n",
    "\n",
    "    print(\"Store the processed data\")\n",
    "    df.to_csv(work_file, index=False)\n"
   ]
  },
  {
   "cell_type": "code",
   "execution_count": 19,
   "metadata": {},
   "outputs": [
    {
     "name": "stdout",
     "output_type": "stream",
     "text": [
      "Number of messages with a length of 0: 0\n"
     ]
    }
   ],
   "source": [
    "# find messages with a length of 0\n",
    "zero_length = df['message_length'] == 0\n",
    "print(f\"Number of messages with a length of 0: {zero_length.sum()}\")\n",
    "\n",
    "# drop messages with a length of 0\n",
    "df = df[~zero_length]\n",
    "df.to_csv(work_file, index=False)\n"
   ]
  },
  {
   "cell_type": "markdown",
   "metadata": {},
   "source": [
    "#### 2.3.3. Mensajes duplicados"
   ]
  },
  {
   "cell_type": "code",
   "execution_count": 20,
   "metadata": {},
   "outputs": [
    {
     "name": "stdout",
     "output_type": "stream",
     "text": [
      "Number of duplicated messages: 7341\n",
      "Percentage of duplicated messages: 52.76%\n",
      "--------\n"
     ]
    }
   ],
   "source": [
    "# Find duplicated messages \n",
    "duplicated_messages = df[df.duplicated(subset=['message_text_clean_utf8'], keep=False)]\n",
    "duplicated_messages = duplicated_messages.sort_values(by=['message_text_clean_utf8'])\n",
    "print(f\"Number of duplicated messages: {duplicated_messages.shape[0]}\")\n",
    "# percentage of duplicated messages\n",
    "print(f\"Percentage of duplicated messages: {duplicated_messages.shape[0]/df.shape[0]:.2%}\")\n",
    "print(\"--------\")\n"
   ]
  },
  {
   "cell_type": "code",
   "execution_count": 21,
   "metadata": {},
   "outputs": [
    {
     "data": {
      "text/plain": [
       "595      4720\n",
       "600      6022\n",
       "8809     2428\n",
       "8810     8611\n",
       "8987    12850\n",
       "Name: id_msg, dtype: int64"
      ]
     },
     "execution_count": 21,
     "metadata": {},
     "output_type": "execute_result"
    }
   ],
   "source": [
    "duplicated_messages.head(5)['id_msg']"
   ]
  },
  {
   "cell_type": "markdown",
   "metadata": {},
   "source": [
    "Si vemos mensajes duplicados en una ventana pequeña de tiempo podemos asumir que son el mismo mensaje y quedarnos con uno."
   ]
  },
  {
   "cell_type": "code",
   "execution_count": 22,
   "metadata": {},
   "outputs": [
    {
     "name": "stdout",
     "output_type": "stream",
     "text": [
      "Number of duplicates_near: 3385\n",
      "Percentage of duplicates_near: 24.33%\n"
     ]
    },
    {
     "data": {
      "text/html": [
       "<div>\n",
       "<style scoped>\n",
       "    .dataframe tbody tr th:only-of-type {\n",
       "        vertical-align: middle;\n",
       "    }\n",
       "\n",
       "    .dataframe tbody tr th {\n",
       "        vertical-align: top;\n",
       "    }\n",
       "\n",
       "    .dataframe thead th {\n",
       "        text-align: right;\n",
       "    }\n",
       "</style>\n",
       "<table border=\"1\" class=\"dataframe\">\n",
       "  <thead>\n",
       "    <tr style=\"text-align: right;\">\n",
       "      <th></th>\n",
       "      <th>chat_id</th>\n",
       "      <th>date_source_posted_at</th>\n",
       "      <th>message_text_clean_utf8</th>\n",
       "      <th>time_diff</th>\n",
       "      <th>duplicates</th>\n",
       "      <th>duplicates_near</th>\n",
       "      <th>duplicate_count</th>\n",
       "    </tr>\n",
       "  </thead>\n",
       "  <tbody>\n",
       "    <tr>\n",
       "      <th>5571</th>\n",
       "      <td>79</td>\n",
       "      <td>2022-11-16 13:10:31+00:00</td>\n",
       "      <td>SCALPING 300 ]\\ns*cdega@ldegp*i... axsusdt ......</td>\n",
       "      <td>0 days 00:00:01</td>\n",
       "      <td>True</td>\n",
       "      <td>True</td>\n",
       "      <td>2</td>\n",
       "    </tr>\n",
       "    <tr>\n",
       "      <th>5174</th>\n",
       "      <td>79</td>\n",
       "      <td>2022-11-02 07:00:40+00:00</td>\n",
       "      <td>SCALPING 300 ]\\ns*cdega@ldegp*i... axsusdt ......</td>\n",
       "      <td>NaT</td>\n",
       "      <td>True</td>\n",
       "      <td>False</td>\n",
       "      <td>2</td>\n",
       "    </tr>\n",
       "    <tr>\n",
       "      <th>5177</th>\n",
       "      <td>79</td>\n",
       "      <td>2022-11-02 07:00:44+00:00</td>\n",
       "      <td>SCALPING 300 ]\\ns*cdega@ldegp*i... axsusdt ......</td>\n",
       "      <td>0 days 00:00:04</td>\n",
       "      <td>True</td>\n",
       "      <td>True</td>\n",
       "      <td>2</td>\n",
       "    </tr>\n",
       "    <tr>\n",
       "      <th>4737</th>\n",
       "      <td>79</td>\n",
       "      <td>2022-10-09 06:00:48+00:00</td>\n",
       "      <td>SCALPING 300 ]\\ns*cdega@ldegp*i... balusdt ......</td>\n",
       "      <td>NaT</td>\n",
       "      <td>True</td>\n",
       "      <td>False</td>\n",
       "      <td>2</td>\n",
       "    </tr>\n",
       "    <tr>\n",
       "      <th>4758</th>\n",
       "      <td>79</td>\n",
       "      <td>2022-10-09 06:00:56+00:00</td>\n",
       "      <td>SCALPING 300 ]\\ns*cdega@ldegp*i... balusdt ......</td>\n",
       "      <td>0 days 00:00:08</td>\n",
       "      <td>True</td>\n",
       "      <td>True</td>\n",
       "      <td>2</td>\n",
       "    </tr>\n",
       "    <tr>\n",
       "      <th>4632</th>\n",
       "      <td>79</td>\n",
       "      <td>2022-10-02 03:05:37+00:00</td>\n",
       "      <td>SCALPING 300 ]\\ns*cdega@ldegp*i... balusdt ......</td>\n",
       "      <td>NaT</td>\n",
       "      <td>True</td>\n",
       "      <td>False</td>\n",
       "      <td>2</td>\n",
       "    </tr>\n",
       "    <tr>\n",
       "      <th>4642</th>\n",
       "      <td>79</td>\n",
       "      <td>2022-10-02 03:05:47+00:00</td>\n",
       "      <td>SCALPING 300 ]\\ns*cdega@ldegp*i... balusdt ......</td>\n",
       "      <td>0 days 00:00:10</td>\n",
       "      <td>True</td>\n",
       "      <td>True</td>\n",
       "      <td>2</td>\n",
       "    </tr>\n",
       "    <tr>\n",
       "      <th>5353</th>\n",
       "      <td>79</td>\n",
       "      <td>2022-11-09 13:00:46+00:00</td>\n",
       "      <td>SCALPING 300 ]\\ns*cdega@ldegp*i... balusdt ......</td>\n",
       "      <td>NaT</td>\n",
       "      <td>True</td>\n",
       "      <td>False</td>\n",
       "      <td>2</td>\n",
       "    </tr>\n",
       "    <tr>\n",
       "      <th>5366</th>\n",
       "      <td>79</td>\n",
       "      <td>2022-11-09 13:00:55+00:00</td>\n",
       "      <td>SCALPING 300 ]\\ns*cdega@ldegp*i... balusdt ......</td>\n",
       "      <td>0 days 00:00:09</td>\n",
       "      <td>True</td>\n",
       "      <td>True</td>\n",
       "      <td>2</td>\n",
       "    </tr>\n",
       "    <tr>\n",
       "      <th>5817</th>\n",
       "      <td>79</td>\n",
       "      <td>2022-11-29 01:59:44+00:00</td>\n",
       "      <td>SCALPING 300 ]\\ns*cdega@ldegp*i... balusdt ......</td>\n",
       "      <td>NaT</td>\n",
       "      <td>True</td>\n",
       "      <td>False</td>\n",
       "      <td>2</td>\n",
       "    </tr>\n",
       "  </tbody>\n",
       "</table>\n",
       "</div>"
      ],
      "text/plain": [
       "      chat_id     date_source_posted_at  \\\n",
       "5571       79 2022-11-16 13:10:31+00:00   \n",
       "5174       79 2022-11-02 07:00:40+00:00   \n",
       "5177       79 2022-11-02 07:00:44+00:00   \n",
       "4737       79 2022-10-09 06:00:48+00:00   \n",
       "4758       79 2022-10-09 06:00:56+00:00   \n",
       "4632       79 2022-10-02 03:05:37+00:00   \n",
       "4642       79 2022-10-02 03:05:47+00:00   \n",
       "5353       79 2022-11-09 13:00:46+00:00   \n",
       "5366       79 2022-11-09 13:00:55+00:00   \n",
       "5817       79 2022-11-29 01:59:44+00:00   \n",
       "\n",
       "                                message_text_clean_utf8       time_diff  \\\n",
       "5571  SCALPING 300 ]\\ns*cdega@ldegp*i... axsusdt ...... 0 days 00:00:01   \n",
       "5174  SCALPING 300 ]\\ns*cdega@ldegp*i... axsusdt ......             NaT   \n",
       "5177  SCALPING 300 ]\\ns*cdega@ldegp*i... axsusdt ...... 0 days 00:00:04   \n",
       "4737  SCALPING 300 ]\\ns*cdega@ldegp*i... balusdt ......             NaT   \n",
       "4758  SCALPING 300 ]\\ns*cdega@ldegp*i... balusdt ...... 0 days 00:00:08   \n",
       "4632  SCALPING 300 ]\\ns*cdega@ldegp*i... balusdt ......             NaT   \n",
       "4642  SCALPING 300 ]\\ns*cdega@ldegp*i... balusdt ...... 0 days 00:00:10   \n",
       "5353  SCALPING 300 ]\\ns*cdega@ldegp*i... balusdt ......             NaT   \n",
       "5366  SCALPING 300 ]\\ns*cdega@ldegp*i... balusdt ...... 0 days 00:00:09   \n",
       "5817  SCALPING 300 ]\\ns*cdega@ldegp*i... balusdt ......             NaT   \n",
       "\n",
       "      duplicates  duplicates_near  duplicate_count  \n",
       "5571        True             True                2  \n",
       "5174        True            False                2  \n",
       "5177        True             True                2  \n",
       "4737        True            False                2  \n",
       "4758        True             True                2  \n",
       "4632        True            False                2  \n",
       "4642        True             True                2  \n",
       "5353        True            False                2  \n",
       "5366        True             True                2  \n",
       "5817        True            False                2  "
      ]
     },
     "execution_count": 22,
     "metadata": {},
     "output_type": "execute_result"
    }
   ],
   "source": [
    "# repeated_window\n",
    "repeated_window = 1 # Window where to consider repeated messages within the same chat_id a repeated messaged\n",
    "\n",
    "df = df.sort_values(by=['chat_id', 'message_text_clean_utf8', 'date_source_posted_at'])\n",
    "\n",
    "# Group by chat_id and find the time difference between consecutive messages\n",
    "# df['time_diff'] = df.groupby('chat_id', 'message_text_clean_utf8')['date_source_posted_at'].diff()\n",
    "df['time_diff'] = df.groupby(['chat_id', 'message_text_clean_utf8'])['date_source_posted_at'].diff( )\n",
    "\n",
    "\n",
    "# Mark duplicates as those with a time difference less than 5 minutes (300 seconds) and the same message text\n",
    "df['duplicates'] = df['message_text_clean_utf8'].duplicated(keep=False)\n",
    "df['duplicate_count'] = df.groupby(['chat_id', 'message_text_clean_utf8'])['id_msg'].transform('count')\n",
    "df['duplicates_near'] = (df['time_diff'] <= pd.Timedelta(minutes=repeated_window)) & (df['message_text_clean_utf8'].duplicated(keep='first'))\n",
    "# df['duplicates_near2'] = ((df['time_diff'].dt.total_seconds()/60) <= repeated_window) & (df['message_text_clean_utf8'].duplicated(keep='first'))\n",
    "\n",
    "\n",
    "cols_check = ['chat_id', 'date_source_posted_at', 'message_text_clean_utf8', 'time_diff', 'duplicates', 'duplicates_near', 'duplicate_count']\n",
    "\n",
    "\n",
    "# Keep only the first message in the case of duplicates\n",
    "# df_filtered = df[~df['duplicate']]\n",
    "\n",
    "# Drop helper columns if not needed\n",
    "# df_filtered = df_filtered.drop(columns=['time_diff', 'duplicate'])\n",
    "\n",
    "# count the number of duplicates_near\n",
    "duplicates_near = df['duplicates_near'].sum()\n",
    "print(f\"Number of duplicates_near: {duplicates_near}\")\n",
    "print(f\"Percentage of duplicates_near: {duplicates_near/df.shape[0]:.2%}\")\n",
    "\n",
    "flt_duplicates = df['duplicates']\n",
    "df[flt_duplicates][cols_check].sort_values(by=['chat_id', 'message_text_clean_utf8', 'date_source_posted_at']).head(600).tail(10)"
   ]
  },
  {
   "cell_type": "code",
   "execution_count": 23,
   "metadata": {},
   "outputs": [],
   "source": [
    "# Remove duplicates_near\n",
    "df = df[~df['duplicates_near']]\n",
    "\n",
    "\n",
    "\n",
    "work_file = f\"data/{base_name}_enhanced_nodup.csv\"\n",
    "df.to_csv(work_file, index=False)"
   ]
  },
  {
   "cell_type": "markdown",
   "metadata": {},
   "source": [
    "#### 2.3.4. Longitudes de texto\n",
    "En esta revisión trabajaremos con las columnas de logitudes de texto adionadas:\n",
    "- message_length\n",
    "- message_lbr\n",
    "- message_words"
   ]
  },
  {
   "cell_type": "code",
   "execution_count": 24,
   "metadata": {},
   "outputs": [
    {
     "data": {
      "image/png": "[encoded data removed]",
      "text/plain": [
       "<Figure size 2000x600 with 4 Axes>"
      ]
     },
     "metadata": {},
     "output_type": "display_data"
    }
   ],
   "source": [
    "# Generate a distribution plots for message_length and message_lbr\n",
    "# the plots should one next to the other\n",
    "# we need to be able to set the size of the plots\n",
    "# the plots should have a title\n",
    "# the plots should have labels for the x and y axis\n",
    "\n",
    "fig, axs = plt.subplots(2, 2, figsize=(20, 6))\n",
    "sns.histplot(data=df, x='message_length', ax=axs[0,0])\n",
    "axs[0,0].set_title('Message Length Distribution')\n",
    "axs[0,0].set_xlabel('Message Length')\n",
    "axs[0,0].set_ylabel('Count')\n",
    "axs[0,0].set_yscale('log')\n",
    "\n",
    "sns.histplot(data=df, x='message_words', ax=axs[0,1])\n",
    "axs[0,1].set_title('Message words Distribution')\n",
    "axs[0,1].set_xlabel('Message words Breaks')\n",
    "axs[0,1].set_ylabel('Count')\n",
    "axs[0,1].set_yscale('log')\n",
    "\n",
    "sns.histplot(data=df, x='message_lbr', ax=axs[1,0])\n",
    "axs[1,0].set_title('Message Line Breaks Distribution')\n",
    "axs[1,0].set_xlabel('Message Line Breaks')\n",
    "axs[1,0].set_ylabel('Count')\n",
    "axs[1,0].set_yscale('log')\n",
    "\n",
    "plt.show()"
   ]
  },
  {
   "cell_type": "markdown",
   "metadata": {},
   "source": [
    "Como es esperable, hay una alta concentración de mensajes cortos, pocas palabras y saltos de linea.\n",
    "Revisaremos más de cerca los datos con valores abitrarios para hacer un rango más acotado. Vemos que existen outliers en todas las distribuciones, los cuales podríamos analizar en más detalle."
   ]
  },
  {
   "cell_type": "code",
   "execution_count": 25,
   "metadata": {},
   "outputs": [
    {
     "data": {
      "text/html": [
       "<div>\n",
       "<style scoped>\n",
       "    .dataframe tbody tr th:only-of-type {\n",
       "        vertical-align: middle;\n",
       "    }\n",
       "\n",
       "    .dataframe tbody tr th {\n",
       "        vertical-align: top;\n",
       "    }\n",
       "\n",
       "    .dataframe thead th {\n",
       "        text-align: right;\n",
       "    }\n",
       "</style>\n",
       "<table border=\"1\" class=\"dataframe\">\n",
       "  <thead>\n",
       "    <tr style=\"text-align: right;\">\n",
       "      <th></th>\n",
       "      <th>message_length</th>\n",
       "      <th>message_words</th>\n",
       "      <th>message_lbr</th>\n",
       "    </tr>\n",
       "  </thead>\n",
       "  <tbody>\n",
       "    <tr>\n",
       "      <th>count</th>\n",
       "      <td>10528.000000</td>\n",
       "      <td>10528.000000</td>\n",
       "      <td>10528.000000</td>\n",
       "    </tr>\n",
       "    <tr>\n",
       "      <th>mean</th>\n",
       "      <td>266.318199</td>\n",
       "      <td>44.719605</td>\n",
       "      <td>11.519377</td>\n",
       "    </tr>\n",
       "    <tr>\n",
       "      <th>std</th>\n",
       "      <td>143.568089</td>\n",
       "      <td>24.094271</td>\n",
       "      <td>4.674633</td>\n",
       "    </tr>\n",
       "    <tr>\n",
       "      <th>min</th>\n",
       "      <td>42.000000</td>\n",
       "      <td>6.000000</td>\n",
       "      <td>0.000000</td>\n",
       "    </tr>\n",
       "    <tr>\n",
       "      <th>25%</th>\n",
       "      <td>187.000000</td>\n",
       "      <td>31.000000</td>\n",
       "      <td>8.000000</td>\n",
       "    </tr>\n",
       "    <tr>\n",
       "      <th>50%</th>\n",
       "      <td>222.000000</td>\n",
       "      <td>38.000000</td>\n",
       "      <td>11.000000</td>\n",
       "    </tr>\n",
       "    <tr>\n",
       "      <th>75%</th>\n",
       "      <td>348.000000</td>\n",
       "      <td>61.000000</td>\n",
       "      <td>16.000000</td>\n",
       "    </tr>\n",
       "    <tr>\n",
       "      <th>max</th>\n",
       "      <td>4185.000000</td>\n",
       "      <td>719.000000</td>\n",
       "      <td>47.000000</td>\n",
       "    </tr>\n",
       "  </tbody>\n",
       "</table>\n",
       "</div>"
      ],
      "text/plain": [
       "       message_length  message_words   message_lbr\n",
       "count    10528.000000   10528.000000  10528.000000\n",
       "mean       266.318199      44.719605     11.519377\n",
       "std        143.568089      24.094271      4.674633\n",
       "min         42.000000       6.000000      0.000000\n",
       "25%        187.000000      31.000000      8.000000\n",
       "50%        222.000000      38.000000     11.000000\n",
       "75%        348.000000      61.000000     16.000000\n",
       "max       4185.000000     719.000000     47.000000"
      ]
     },
     "execution_count": 25,
     "metadata": {},
     "output_type": "execute_result"
    }
   ],
   "source": [
    "df[['message_length', 'message_words', 'message_lbr']].describe()"
   ]
  },
  {
   "cell_type": "code",
   "execution_count": 26,
   "metadata": {},
   "outputs": [
    {
     "data": {
      "image/png": "[encoded data removed]",
      "text/plain": [
       "<Figure size 2000x600 with 4 Axes>"
      ]
     },
     "metadata": {},
     "output_type": "display_data"
    }
   ],
   "source": [
    "fig, axs = plt.subplots(2, 2, figsize=(20, 6))\n",
    "\n",
    "flt_ml = df['message_length'] < 170\n",
    "sns.histplot(data=df[flt_ml], x='message_length', ax=axs[0,0])\n",
    "axs[0,0].set_title('Message Length Distribution')\n",
    "axs[0,0].set_xlabel('Message Length')\n",
    "axs[0,0].set_ylabel('Count')\n",
    "axs[0,0].set_yscale('log')\n",
    "\n",
    "flt_mw = df['message_words'] < 100\n",
    "sns.histplot(data=df[flt_mw], x='message_words', ax=axs[0,1])\n",
    "axs[0,1].set_title('Message words Distribution')\n",
    "axs[0,1].set_xlabel('Message words Breaks')\n",
    "axs[0,1].set_ylabel('Count')\n",
    "axs[0,1].set_yscale('log')\n",
    "\n",
    "flt_mbr = (df['message_lbr'] < 25) & (df['message_lbr'] >= 0) \n",
    "sns.histplot(data=df[flt_mbr], x='message_lbr', ax=axs[1,0])\n",
    "axs[1,0].set_title('Message Line Breaks Distribution')\n",
    "axs[1,0].set_xlabel('Message Line Breaks')\n",
    "axs[1,0].set_ylabel('Count')\n",
    "axs[1,0].set_yscale('log')\n",
    "\n",
    "plt.show()"
   ]
  },
  {
   "cell_type": "code",
   "execution_count": 27,
   "metadata": {},
   "outputs": [
    {
     "name": "stdout",
     "output_type": "stream",
     "text": [
      "Top 5 LBR (message_lbr):\n",
      "01 - 8: 1740 \t (16.53% - 16.53%)\n",
      "02 - 16: 1504 \t (14.29% - 30.82%)\n",
      "03 - 12: 1385 \t (13.16% - 43.98%)\n",
      "04 - 11: 1281 \t (12.17% - 56.15%)\n",
      "05 - 10: 640 \t (6.08% - 62.23%)\n"
     ]
    }
   ],
   "source": [
    "print_top(df, 'message_lbr', \"LBR\", top=5)"
   ]
  },
  {
   "cell_type": "code",
   "execution_count": 28,
   "metadata": {},
   "outputs": [
    {
     "name": "stdout",
     "output_type": "stream",
     "text": [
      "Top 5 Words (message_words):\n",
      "01 - 64: 1428 \t (13.56% - 13.56%)\n",
      "02 - 32: 1196 \t (11.36% - 24.92%)\n",
      "03 - 46: 828 \t (7.86% - 32.78%)\n",
      "04 - 19: 554 \t (5.26% - 38.04%)\n",
      "05 - 38: 467 \t (4.44% - 42.48%)\n"
     ]
    }
   ],
   "source": [
    "print_top(df, 'message_words', \"Words\", top=5)"
   ]
  },
  {
   "cell_type": "code",
   "execution_count": 29,
   "metadata": {},
   "outputs": [
    {
     "data": {
      "image/png": "[encoded data removed]",
      "text/plain": [
       "<Figure size 500x500 with 6 Axes>"
      ]
     },
     "metadata": {},
     "output_type": "display_data"
    }
   ],
   "source": [
    "flt = flt_ml & flt_mw & flt_mbr\n",
    "sns.pairplot(data=df[flt][['message_words', 'message_lbr']])\n",
    "plt.show()"
   ]
  },
  {
   "cell_type": "markdown",
   "metadata": {},
   "source": [
    "## Preprocesamiento vectorización"
   ]
  },
  {
   "cell_type": "markdown",
   "metadata": {},
   "source": [
    "Para la comparación de mensajes es necesario vectorizar los mismos, este proceso requiere de una limpieza de datos adicional."
   ]
  },
  {
   "cell_type": "code",
   "execution_count": 30,
   "metadata": {},
   "outputs": [],
   "source": [
    "# Instalación de las bibliotecas necesarias\n",
    "import os\n",
    "import nltk\n",
    "# import spacy\n",
    "import pandas as pd\n",
    "import re\n",
    "import networkx as nx\n",
    "from nltk.tokenize import word_tokenize\n",
    "from nltk.corpus import stopwords\n",
    "from nltk.stem import WordNetLemmatizer\n",
    "from sklearn.feature_extraction.text import CountVectorizer\n",
    "from sklearn.feature_extraction.text import TfidfVectorizer\n",
    "from sklearn.metrics.pairwise import cosine_similarity\n"
   ]
  },
  {
   "cell_type": "code",
   "execution_count": 31,
   "metadata": {},
   "outputs": [],
   "source": [
    "df_sim = df"
   ]
  },
  {
   "cell_type": "code",
   "execution_count": 32,
   "metadata": {},
   "outputs": [],
   "source": [
    "def create_word_bins(df, bins=[0, 1, 2, 3, 4, 5, 6, 7, 8, 9, \n",
    "                               10, 11, 12, 13, 14, 15, 16, 17, 18, 19, \n",
    "                               20, 21, 22, 23, 24, 25, 26, 27, 28, 29, np.inf]):\n",
    "    \"\"\"\n",
    "    Function to bin the word count into categories.\n",
    "    You can modify 'bins' based on your use case.\n",
    "    \"\"\"\n",
    "    # Create a new column 'word_bin' based on the number of words\n",
    "    df['word_bin'] = pd.cut(df['message_words'], bins=bins, labels=False, right=False)\n",
    "    return df"
   ]
  },
  {
   "cell_type": "code",
   "execution_count": 33,
   "metadata": {},
   "outputs": [],
   "source": [
    "\n",
    "stop_words = set(nltk.corpus.stopwords.words('english'))\n",
    "\n",
    "def preprocess(text, stop_words=stop_words):\n",
    "\n",
    "    text = text.lower()\n",
    "    # tokenizar el texto\n",
    "    text = text.replace('\\n', ' LBRMARK ')\n",
    "\n",
    "    \n",
    "    text_tokens = word_tokenize(text)\n",
    "    # replace numbers with a placeholder\n",
    "    # print(text_tokens)\n",
    "    text_tokens_rst = text_tokens.copy() \n",
    "    i = -1\n",
    "    for token in text_tokens:\n",
    "        i += 1\n",
    "        token = re.sub(r'\\s+', ' ', token)\n",
    "\n",
    "        # if token in stop_words:\n",
    "        #     # remove the token from the list\n",
    "        #     text_tokens_rst.pop(i)\n",
    "        #     i -= 1\n",
    "        #     # text_tokens_rst[i] = '{STOP_WORD}'\n",
    "        #     continue\n",
    "\n",
    "        if is_number(token):\n",
    "            text_tokens_rst[i] = '{NUM}'\n",
    "            continue\n",
    "\n",
    "        if is_date(token):\n",
    "            text_tokens_rst[i] = '{DATE}'\n",
    "            continue\n",
    "\n",
    "        tmp_token = re.sub(r'[^a-zA-Z0-9@\\s]', ' ', token)  # eliminar caracteres especiales\n",
    "        if tmp_token == token:\n",
    "            continue\n",
    "        text_tokens_rst[i] = preprocess(tmp_token)\n",
    "\n",
    "    text = ' '.join(text_tokens_rst)\n",
    "    # print(text)\n",
    "\n",
    "    # text = re.sub(r'[^a-zA-Z0-9@\\s]', ' ', text)  # eliminar caracteres especiales\n",
    "    # remove multiple spaces\n",
    "    text = re.sub(r'\\s+', ' ', text)\n",
    "    # print(text)\n",
    "\n",
    "    text = text.replace(' LBRMARK ', '\\n')\n",
    "    text = text.replace('LBRMARK', '\\n')\n",
    "    text = clean_lbr(text)\n",
    "    return text\n",
    "\n",
    "\n",
    "# df['tokenized_nltk'] = df['cleaned'].apply(word_tokenize)\n",
    "\n",
    "# aclarar que se usa un dataset expandido\n",
    "# Evolucion temporal con los meses con más mensajes\n",
    "# conteo de users y chat_ids\n",
    "# Mensajes por tipo de operación\n",
    "\n",
    "\n"
   ]
  },
  {
   "cell_type": "code",
   "execution_count": 34,
   "metadata": {},
   "outputs": [],
   "source": [
    "# nltk.download('punkt_tab')\n"
   ]
  },
  {
   "cell_type": "code",
   "execution_count": 35,
   "metadata": {},
   "outputs": [
    {
     "name": "stdout",
     "output_type": "stream",
     "text": [
      "Cleaning messages\n",
      "Checking message words\n",
      "Checking message LBRs\n",
      "Creating word bins\n"
     ]
    }
   ],
   "source": [
    "force_process = True\n",
    "\n",
    "if 'cleaned_sim' not in df_sim.columns or force_process:\n",
    "    df_sim.rename(columns={'message_lbr': 'message_lbr_utf8'}, inplace=True)\n",
    "    df_sim.rename(columns={'message_words': 'message_words_utf8'}, inplace=True)\n",
    "\n",
    "    print(\"Cleaning messages\")\n",
    "    # # apply preprocess to the messages df_sim['message_text_clean_utf8']\n",
    "    df_sim['cleaned_sim'] = df_sim['message_text_clean_utf8'].apply(preprocess)\n",
    "\n",
    "    # Añadir columna con el número de palabras\n",
    "    print(\"Checking message words\")\n",
    "    df_sim['message_words'] = df_sim['cleaned_sim'].parallel_apply(lambda x: len(x.split()))\n",
    "\n",
    "    # Añadir columna con el número de saltos de línea\n",
    "    print(\"Checking message LBRs\")\n",
    "    df_sim['message_lbr'] = df_sim['cleaned_sim'].parallel_apply(count_line_breaks)\n",
    "\n",
    "    print(\"Creating word bins\")\n",
    "    df_sim = create_word_bins(df_sim)\n",
    "\n"
   ]
  },
  {
   "cell_type": "code",
   "execution_count": 36,
   "metadata": {},
   "outputs": [
    {
     "name": "stdout",
     "output_type": "stream",
     "text": [
      "Store the processed data\n"
     ]
    }
   ],
   "source": [
    "print(\"Store the processed data\")\n",
    "work_file = f\"data/{base_name}_pre-processed.csv\"\n",
    "df_sim.to_csv(work_file, index=False)\n"
   ]
  }
 ],
 "metadata": {
  "colab": {
   "include_colab_link": true,
   "provenance": []
  },
  "kernelspec": {
   "display_name": "mentoria-3.10.14",
   "language": "python",
   "name": "python3"
  },
  "language_info": {
   "codemirror_mode": {
    "name": "ipython",
    "version": 3
   },
   "file_extension": ".py",
   "mimetype": "text/x-python",
   "name": "python",
   "nbconvert_exporter": "python",
   "pygments_lexer": "ipython3",
   "version": "3.10.14"
  }
 },
 "nbformat": 4,
 "nbformat_minor": 4
}
