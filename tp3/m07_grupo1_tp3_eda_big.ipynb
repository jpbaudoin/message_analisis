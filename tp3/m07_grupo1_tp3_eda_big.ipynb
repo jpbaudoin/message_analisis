{
 "cells": [
  {
   "cell_type": "markdown",
   "metadata": {
    "id": "LYvAOR2VzHmW"
   },
   "source": [
    "# M07 - Caracterización y Agrupación de Usuarios en Redes Sociales mediante Análisis de Mensajes"
   ]
  },
  {
   "cell_type": "markdown",
   "metadata": {},
   "source": [
    "Grupo 3:\n",
    "\n",
    ">- Juan Pablo Baudoin\n"
   ]
  },
  {
   "cell_type": "markdown",
   "metadata": {},
   "source": [
    "# Análisis exploratorio"
   ]
  },
  {
   "cell_type": "code",
   "execution_count": 66,
   "metadata": {
    "id": "mlMM0JkSeqkw"
   },
   "outputs": [
    {
     "name": "stdout",
     "output_type": "stream",
     "text": [
      "INFO: Pandarallel will run on 8 workers.\n",
      "INFO: Pandarallel will use standard multiprocessing data transfer (pipe) to transfer data between the main process and workers.\n"
     ]
    }
   ],
   "source": [
    "import matplotlib.pyplot as plt\n",
    "import matplotlib\n",
    "\n",
    "import numpy as np\n",
    "import pandas as pd\n",
    "import seaborn as sns\n",
    "import emoji\n",
    "import io\n",
    "import chardet\n",
    "from unidecode import unidecode\n",
    "# from pycountry import languages\n",
    "# from langid.langid import LanguageIdentifier, model\n",
    "\n",
    "from lib.utils import *\n",
    "from lib.sim import *\n",
    "\n",
    "from pandarallel import pandarallel\n",
    "\n",
    "pandarallel.initialize()\n",
    "sns.set(rc={'figure.figsize':(10,6)})\n",
    "pd.set_option('display.max_rows', 10) # cambiar el número de filas que se mostrarán usando display.max_rows."
   ]
  },
  {
   "cell_type": "code",
   "execution_count": 67,
   "metadata": {},
   "outputs": [],
   "source": [
    "# upgrade pip\n",
    "#! pip install --upgrade pip -q\n",
    "#! pip install emoji pandarallel matplotlib numpy pandas chardet unidecode\n",
    "# ! pip install seaborn -q\n",
    "#! pip install networkx -q\n",
    "#! pip install langdetect -q\n",
    "# ! pip install scipy -q\n",
    "# ! pip install scikit-learn -q\n",
    "\n"
   ]
  },
  {
   "cell_type": "markdown",
   "metadata": {},
   "source": [
    "## 1. Lectura de datos"
   ]
  },
  {
   "cell_type": "code",
   "execution_count": 68,
   "metadata": {
    "id": "__ECd-9myy6k"
   },
   "outputs": [
    {
     "name": "stdout",
     "output_type": "stream",
     "text": [
      "<class 'pandas.core.frame.DataFrame'>\n",
      "RangeIndex: 936272 entries, 0 to 936271\n",
      "Data columns (total 9 columns):\n",
      " #   Column                   Non-Null Count   Dtype  \n",
      "---  ------                   --------------   -----  \n",
      " 0   id                       936272 non-null  int64  \n",
      " 1   commodity                751982 non-null  object \n",
      " 2   source_posted_at         936272 non-null  object \n",
      " 3   trade_type               935079 non-null  object \n",
      " 4   chat_id                  934972 non-null  float64\n",
      " 5   telegram_user_id         936272 non-null  int64  \n",
      " 6   message_text             936233 non-null  object \n",
      " 7   message_text_translated  451354 non-null  object \n",
      " 8   language                 896118 non-null  object \n",
      "dtypes: float64(1), int64(2), object(6)\n",
      "memory usage: 64.3+ MB\n"
     ]
    }
   ],
   "source": [
    "base_name = \"signals_langs\"\n",
    "src_ds = f\"data/{base_name}.csv\"\n",
    "df_ori = pd.read_csv(src_ds)\n",
    "df_ori.info()"
   ]
  },
  {
   "cell_type": "code",
   "execution_count": 69,
   "metadata": {},
   "outputs": [],
   "source": [
    "df_ori.rename(columns={'username':'telegram_user_id'}, inplace=True)\n",
    "\n",
    "# Creamos una columna id con el índice de la tabla\n",
    "df_ori['id_msg'] = df_ori.index\n"
   ]
  },
  {
   "cell_type": "code",
   "execution_count": 70,
   "metadata": {},
   "outputs": [
    {
     "data": {
      "text/html": [
       "<div>\n",
       "<style scoped>\n",
       "    .dataframe tbody tr th:only-of-type {\n",
       "        vertical-align: middle;\n",
       "    }\n",
       "\n",
       "    .dataframe tbody tr th {\n",
       "        vertical-align: top;\n",
       "    }\n",
       "\n",
       "    .dataframe thead th {\n",
       "        text-align: right;\n",
       "    }\n",
       "</style>\n",
       "<table border=\"1\" class=\"dataframe\">\n",
       "  <thead>\n",
       "    <tr style=\"text-align: right;\">\n",
       "      <th></th>\n",
       "      <th>id</th>\n",
       "      <th>commodity</th>\n",
       "      <th>source_posted_at</th>\n",
       "      <th>trade_type</th>\n",
       "      <th>chat_id</th>\n",
       "      <th>telegram_user_id</th>\n",
       "      <th>message_text</th>\n",
       "      <th>message_text_translated</th>\n",
       "      <th>language</th>\n",
       "      <th>id_msg</th>\n",
       "    </tr>\n",
       "  </thead>\n",
       "  <tbody>\n",
       "    <tr>\n",
       "      <th>0</th>\n",
       "      <td>2001</td>\n",
       "      <td>DOGE</td>\n",
       "      <td>2022-10-29 17:45:19+00</td>\n",
       "      <td>sell</td>\n",
       "      <td>765.0</td>\n",
       "      <td>1923710</td>\n",
       "      <td>CAPTION: Abercrombie&amp;Fitch || Up to $90 - Rest...</td>\n",
       "      <td>NaN</td>\n",
       "      <td>en</td>\n",
       "      <td>0</td>\n",
       "    </tr>\n",
       "    <tr>\n",
       "      <th>1</th>\n",
       "      <td>2001</td>\n",
       "      <td>DOGE</td>\n",
       "      <td>2022-10-29 17:45:19+00</td>\n",
       "      <td>sell</td>\n",
       "      <td>1040.0</td>\n",
       "      <td>1420790</td>\n",
       "      <td>sometimes I forget BNB and XRP exist</td>\n",
       "      <td>sometimes I forget BNB and XRP exist</td>\n",
       "      <td>no</td>\n",
       "      <td>1</td>\n",
       "    </tr>\n",
       "    <tr>\n",
       "      <th>2</th>\n",
       "      <td>2001</td>\n",
       "      <td>DOGE</td>\n",
       "      <td>2022-10-29 17:45:19+00</td>\n",
       "      <td>sell</td>\n",
       "      <td>3396.0</td>\n",
       "      <td>2673772</td>\n",
       "      <td>Check the basics of Tron here https://steemit....</td>\n",
       "      <td>NaN</td>\n",
       "      <td>en</td>\n",
       "      <td>2</td>\n",
       "    </tr>\n",
       "    <tr>\n",
       "      <th>3</th>\n",
       "      <td>2001</td>\n",
       "      <td>DOGE</td>\n",
       "      <td>2022-10-29 17:45:19+00</td>\n",
       "      <td>sell</td>\n",
       "      <td>3408.0</td>\n",
       "      <td>3078883</td>\n",
       "      <td>سلام کد دعوت mexc بدید</td>\n",
       "      <td>Hello, give mexc invitation code</td>\n",
       "      <td>ur</td>\n",
       "      <td>3</td>\n",
       "    </tr>\n",
       "    <tr>\n",
       "      <th>4</th>\n",
       "      <td>2001</td>\n",
       "      <td>DOGE</td>\n",
       "      <td>2022-10-29 17:45:19+00</td>\n",
       "      <td>sell</td>\n",
       "      <td>3720.0</td>\n",
       "      <td>3280159</td>\n",
       "      <td>Check out the VIP section, how you can get it</td>\n",
       "      <td>NaN</td>\n",
       "      <td>en</td>\n",
       "      <td>4</td>\n",
       "    </tr>\n",
       "    <tr>\n",
       "      <th>...</th>\n",
       "      <td>...</td>\n",
       "      <td>...</td>\n",
       "      <td>...</td>\n",
       "      <td>...</td>\n",
       "      <td>...</td>\n",
       "      <td>...</td>\n",
       "      <td>...</td>\n",
       "      <td>...</td>\n",
       "      <td>...</td>\n",
       "      <td>...</td>\n",
       "    </tr>\n",
       "    <tr>\n",
       "      <th>936267</th>\n",
       "      <td>1098398</td>\n",
       "      <td>NaN</td>\n",
       "      <td>2022-04-04 18:13:52+00</td>\n",
       "      <td>buy</td>\n",
       "      <td>3205.0</td>\n",
       "      <td>3924802</td>\n",
       "      <td>✅We are an Indian game payment company, big co...</td>\n",
       "      <td>NaN</td>\n",
       "      <td>en</td>\n",
       "      <td>936267</td>\n",
       "    </tr>\n",
       "    <tr>\n",
       "      <th>936268</th>\n",
       "      <td>1098410</td>\n",
       "      <td>TRX</td>\n",
       "      <td>2022-01-25 19:07:15+00</td>\n",
       "      <td>buy</td>\n",
       "      <td>3205.0</td>\n",
       "      <td>3970642</td>\n",
       "      <td>🔥五洲钱庄，外汇白资上浮收U🔥\\n\\n全网总代，高价收U， 长期可做。\\n\\n🎇承接USDT...</td>\n",
       "      <td>NaN</td>\n",
       "      <td>en</td>\n",
       "      <td>936268</td>\n",
       "    </tr>\n",
       "    <tr>\n",
       "      <th>936269</th>\n",
       "      <td>1098228</td>\n",
       "      <td>NaN</td>\n",
       "      <td>2022-02-14 16:06:05+00</td>\n",
       "      <td>NaN</td>\n",
       "      <td>3205.0</td>\n",
       "      <td>4325620</td>\n",
       "      <td>大量下浮出U，同台交易，下浮一毛5。联系飞机 @zhanggechuu168</td>\n",
       "      <td>A large number of Us are floating down, tradin...</td>\n",
       "      <td>vi</td>\n",
       "      <td>936269</td>\n",
       "    </tr>\n",
       "    <tr>\n",
       "      <th>936270</th>\n",
       "      <td>1098206</td>\n",
       "      <td>NaN</td>\n",
       "      <td>2022-02-17 20:25:57+00</td>\n",
       "      <td>NaN</td>\n",
       "      <td>3205.0</td>\n",
       "      <td>4325620</td>\n",
       "      <td>大量下浮出U，同台交易，下浮一毛5。联系飞机  @zhanggechuu168</td>\n",
       "      <td>A large number of Us are floating down, tradin...</td>\n",
       "      <td>vi</td>\n",
       "      <td>936270</td>\n",
       "    </tr>\n",
       "    <tr>\n",
       "      <th>936271</th>\n",
       "      <td>1168635</td>\n",
       "      <td>NaN</td>\n",
       "      <td>2022-06-06 01:48:26+00</td>\n",
       "      <td>NaN</td>\n",
       "      <td>3108.0</td>\n",
       "      <td>3969052</td>\n",
       "      <td>🔥五洲钱庄，外汇白资上浮收U🔥\\n\\n全网总代，高价收U， 长期可做。\\n\\n🎇承接USDT...</td>\n",
       "      <td>NaN</td>\n",
       "      <td>en</td>\n",
       "      <td>936271</td>\n",
       "    </tr>\n",
       "  </tbody>\n",
       "</table>\n",
       "<p>936272 rows × 10 columns</p>\n",
       "</div>"
      ],
      "text/plain": [
       "             id commodity        source_posted_at trade_type  chat_id  \\\n",
       "0          2001      DOGE  2022-10-29 17:45:19+00       sell    765.0   \n",
       "1          2001      DOGE  2022-10-29 17:45:19+00       sell   1040.0   \n",
       "2          2001      DOGE  2022-10-29 17:45:19+00       sell   3396.0   \n",
       "3          2001      DOGE  2022-10-29 17:45:19+00       sell   3408.0   \n",
       "4          2001      DOGE  2022-10-29 17:45:19+00       sell   3720.0   \n",
       "...         ...       ...                     ...        ...      ...   \n",
       "936267  1098398       NaN  2022-04-04 18:13:52+00        buy   3205.0   \n",
       "936268  1098410       TRX  2022-01-25 19:07:15+00        buy   3205.0   \n",
       "936269  1098228       NaN  2022-02-14 16:06:05+00        NaN   3205.0   \n",
       "936270  1098206       NaN  2022-02-17 20:25:57+00        NaN   3205.0   \n",
       "936271  1168635       NaN  2022-06-06 01:48:26+00        NaN   3108.0   \n",
       "\n",
       "        telegram_user_id                                       message_text  \\\n",
       "0                1923710  CAPTION: Abercrombie&Fitch || Up to $90 - Rest...   \n",
       "1                1420790               sometimes I forget BNB and XRP exist   \n",
       "2                2673772  Check the basics of Tron here https://steemit....   \n",
       "3                3078883                             سلام کد دعوت mexc بدید   \n",
       "4                3280159      Check out the VIP section, how you can get it   \n",
       "...                  ...                                                ...   \n",
       "936267           3924802  ✅We are an Indian game payment company, big co...   \n",
       "936268           3970642  🔥五洲钱庄，外汇白资上浮收U🔥\\n\\n全网总代，高价收U， 长期可做。\\n\\n🎇承接USDT...   \n",
       "936269           4325620             大量下浮出U，同台交易，下浮一毛5。联系飞机 @zhanggechuu168   \n",
       "936270           4325620            大量下浮出U，同台交易，下浮一毛5。联系飞机  @zhanggechuu168   \n",
       "936271           3969052  🔥五洲钱庄，外汇白资上浮收U🔥\\n\\n全网总代，高价收U， 长期可做。\\n\\n🎇承接USDT...   \n",
       "\n",
       "                                  message_text_translated language  id_msg  \n",
       "0                                                     NaN       en       0  \n",
       "1                    sometimes I forget BNB and XRP exist       no       1  \n",
       "2                                                     NaN       en       2  \n",
       "3                        Hello, give mexc invitation code       ur       3  \n",
       "4                                                     NaN       en       4  \n",
       "...                                                   ...      ...     ...  \n",
       "936267                                                NaN       en  936267  \n",
       "936268                                                NaN       en  936268  \n",
       "936269  A large number of Us are floating down, tradin...       vi  936269  \n",
       "936270  A large number of Us are floating down, tradin...       vi  936270  \n",
       "936271                                                NaN       en  936271  \n",
       "\n",
       "[936272 rows x 10 columns]"
      ]
     },
     "execution_count": 70,
     "metadata": {},
     "output_type": "execute_result"
    }
   ],
   "source": [
    "df_ori"
   ]
  },
  {
   "cell_type": "code",
   "execution_count": 71,
   "metadata": {},
   "outputs": [
    {
     "name": "stdout",
     "output_type": "stream",
     "text": [
      "Creating data/signals_langs_enhanced.csv\n"
     ]
    }
   ],
   "source": [
    "# check if a file exists\n",
    "import os\n",
    "# Vamos a trabajar con una copia de los datos y generamos un archivo nuevo en el que adicionaremos \n",
    "# las columnas con información adicional.\n",
    "work_file = f\"data/{base_name}_enhanced.csv\"\n",
    "if not os.path.exists(work_file):\n",
    "    print(f\"Creating {work_file}\")\n",
    "    df_ori.to_csv(work_file, index=False)\n",
    "    df = df_ori.copy()\n",
    "else:\n",
    "    print(f\"File {work_file} already exists. Loading it.\")\n",
    "    df = pd.read_csv(work_file)\n",
    "    df['date_source_posted_at'] = pd.to_datetime(df['source_posted_at'])\n",
    "\n"
   ]
  },
  {
   "cell_type": "markdown",
   "metadata": {},
   "source": [
    "## 2. Análisis de datos categóricos y texto\n",
    "En una primera revisión vamos a ver:\n",
    "- Valores nulos\n",
    "- Frecuencias de variables categóricas: commodity, trade_type, chat_id, telegram_user_id\n",
    "- Análisis del campo message_text: mediante una inspección de datos muestral se ve que existen varios idiomas, que se tienen múltiples encodings y se detecta el uso de emojis. Comportamiento esperado en mensajes de canales de chat en aplicaciones como telegram o whatsapp. Para el análisis del campo message_text, generaremos información adicional sobre el mismo:\n",
    "  * Idioma\n",
    "  * longitud caracteres\n",
    "  * Numero de palabras\n",
    "  * Cantidad de saltos de linea\n",
    "  * Encodings\n",
    "\n"
   ]
  },
  {
   "cell_type": "code",
   "execution_count": 72,
   "metadata": {},
   "outputs": [
    {
     "data": {
      "text/html": [
       "<div>\n",
       "<style scoped>\n",
       "    .dataframe tbody tr th:only-of-type {\n",
       "        vertical-align: middle;\n",
       "    }\n",
       "\n",
       "    .dataframe tbody tr th {\n",
       "        vertical-align: top;\n",
       "    }\n",
       "\n",
       "    .dataframe thead th {\n",
       "        text-align: right;\n",
       "    }\n",
       "</style>\n",
       "<table border=\"1\" class=\"dataframe\">\n",
       "  <thead>\n",
       "    <tr style=\"text-align: right;\">\n",
       "      <th></th>\n",
       "      <th>id</th>\n",
       "      <th>counts</th>\n",
       "    </tr>\n",
       "  </thead>\n",
       "  <tbody>\n",
       "    <tr>\n",
       "      <th>71320</th>\n",
       "      <td>170667</td>\n",
       "      <td>967</td>\n",
       "    </tr>\n",
       "    <tr>\n",
       "      <th>70812</th>\n",
       "      <td>170144</td>\n",
       "      <td>870</td>\n",
       "    </tr>\n",
       "    <tr>\n",
       "      <th>71104</th>\n",
       "      <td>170445</td>\n",
       "      <td>555</td>\n",
       "    </tr>\n",
       "    <tr>\n",
       "      <th>71068</th>\n",
       "      <td>170407</td>\n",
       "      <td>551</td>\n",
       "    </tr>\n",
       "    <tr>\n",
       "      <th>70842</th>\n",
       "      <td>170174</td>\n",
       "      <td>546</td>\n",
       "    </tr>\n",
       "    <tr>\n",
       "      <th>...</th>\n",
       "      <td>...</td>\n",
       "      <td>...</td>\n",
       "    </tr>\n",
       "    <tr>\n",
       "      <th>104060</th>\n",
       "      <td>205680</td>\n",
       "      <td>1</td>\n",
       "    </tr>\n",
       "    <tr>\n",
       "      <th>96615</th>\n",
       "      <td>197699</td>\n",
       "      <td>1</td>\n",
       "    </tr>\n",
       "    <tr>\n",
       "      <th>109028</th>\n",
       "      <td>210965</td>\n",
       "      <td>1</td>\n",
       "    </tr>\n",
       "    <tr>\n",
       "      <th>116888</th>\n",
       "      <td>219310</td>\n",
       "      <td>1</td>\n",
       "    </tr>\n",
       "    <tr>\n",
       "      <th>124769</th>\n",
       "      <td>1169041</td>\n",
       "      <td>1</td>\n",
       "    </tr>\n",
       "  </tbody>\n",
       "</table>\n",
       "<p>124770 rows × 2 columns</p>\n",
       "</div>"
      ],
      "text/plain": [
       "             id  counts\n",
       "71320    170667     967\n",
       "70812    170144     870\n",
       "71104    170445     555\n",
       "71068    170407     551\n",
       "70842    170174     546\n",
       "...         ...     ...\n",
       "104060   205680       1\n",
       "96615    197699       1\n",
       "109028   210965       1\n",
       "116888   219310       1\n",
       "124769  1169041       1\n",
       "\n",
       "[124770 rows x 2 columns]"
      ]
     },
     "execution_count": 72,
     "metadata": {},
     "output_type": "execute_result"
    }
   ],
   "source": [
    "# group df by id and count the number of rows\n",
    "df_grouped_id = df.groupby('id').size().reset_index(name='counts')\n",
    "# sort the values by counts\n",
    "df_grouped_id = df_grouped_id.sort_values(by='counts', ascending=False)\n",
    "df_grouped_id"
   ]
  },
  {
   "cell_type": "markdown",
   "metadata": {},
   "source": [
    "### 2.1 Nulos"
   ]
  },
  {
   "cell_type": "code",
   "execution_count": 73,
   "metadata": {},
   "outputs": [
    {
     "name": "stdout",
     "output_type": "stream",
     "text": [
      "############\n",
      "Columns with missing values\n",
      "    message_text_translated: 51.79%\n",
      "    commodity: 19.68%\n",
      "    language: 4.29%\n",
      "    chat_id: 0.14%\n",
      "    trade_type: 0.13%\n",
      "    message_text: 0.00%\n",
      "############\n",
      "Columns with no missing values\n",
      "    id\n",
      "    source_posted_at\n",
      "    telegram_user_id\n",
      "    id_msg\n"
     ]
    }
   ],
   "source": [
    "# get the percentage of missing values in the dataset\n",
    "missing_values = df_ori.isnull().mean() * 100\n",
    "# sort the columns by the percentage of missing values\n",
    "missing_values = missing_values.sort_values(ascending=False)\n",
    "\n",
    "filter_columns = missing_values > 0\n",
    "\n",
    "print(\"############\")\n",
    "print(\"Columns with missing values\")\n",
    "for column, percentage in  missing_values[filter_columns].items():\n",
    "    print(f\"    {column}: {percentage:.2f}%\")\n",
    "\n",
    "\n",
    "filter_columns = missing_values == 0\n",
    "print(\"############\")\n",
    "print(\"Columns with no missing values\")\n",
    "for column, percentage in  missing_values[filter_columns].items():\n",
    "    print(f\"    {column}\")"
   ]
  },
  {
   "cell_type": "code",
   "execution_count": 74,
   "metadata": {},
   "outputs": [
    {
     "name": "stdout",
     "output_type": "stream",
     "text": [
      "<class 'pandas.core.frame.DataFrame'>\n",
      "Index: 934933 entries, 0 to 936271\n",
      "Data columns (total 10 columns):\n",
      " #   Column                   Non-Null Count   Dtype  \n",
      "---  ------                   --------------   -----  \n",
      " 0   id                       934933 non-null  int64  \n",
      " 1   commodity                751937 non-null  object \n",
      " 2   source_posted_at         934933 non-null  object \n",
      " 3   trade_type               933740 non-null  object \n",
      " 4   chat_id                  934933 non-null  float64\n",
      " 5   telegram_user_id         934933 non-null  int64  \n",
      " 6   message_text             934933 non-null  object \n",
      " 7   message_text_translated  450656 non-null  object \n",
      " 8   language                 894779 non-null  object \n",
      " 9   id_msg                   934933 non-null  int64  \n",
      "dtypes: float64(1), int64(3), object(6)\n",
      "memory usage: 78.5+ MB\n"
     ]
    }
   ],
   "source": [
    "# Excluir los registros sin chat_id\n",
    "df = df.dropna(subset=['chat_id'])\n",
    "df = df.dropna(subset=['message_text'])\n",
    "df.info()\n"
   ]
  },
  {
   "cell_type": "code",
   "execution_count": 75,
   "metadata": {},
   "outputs": [],
   "source": [
    "# Remove rows when  chat_id is equal NaN\n",
    "df = df[df['chat_id'].notna()].copy()"
   ]
  },
  {
   "cell_type": "code",
   "execution_count": 76,
   "metadata": {},
   "outputs": [],
   "source": [
    "# convert chat_id to integer\n",
    "df['chat_id'] = df['chat_id'].astype(int)"
   ]
  },
  {
   "cell_type": "markdown",
   "metadata": {},
   "source": [
    "## Filtado de mensajes en ingles"
   ]
  },
  {
   "cell_type": "code",
   "execution_count": 77,
   "metadata": {},
   "outputs": [
    {
     "name": "stdout",
     "output_type": "stream",
     "text": [
      "['en' 'no' 'ur' 'ar' 'pt' nan 'fa' 'da' 'fr' 'so' 'af' 'ru' 'nl' 'fi' 'bg'\n",
      " 'sw' 'tr' 'bn' 'sv' 'id' 'sl' 'vi' 'et' 'it' 'hr' 'de' 'es' 'ca' 'zh-tw'\n",
      " 'tl' 'pl' 'sq' 'cy' 'lt' 'hu' 'ro' 'sk' 'cs' 'uk' 'mk' 'lv' 'hi' 'he'\n",
      " 'mr' 'te' 'ja' 'th' 'ne' 'ta' 'unknown' 'ml' 'el' 'gu' 'kn']\n"
     ]
    }
   ],
   "source": [
    "# List the languages in the datase language column\n",
    "languages = df['language'].unique()\n",
    "print(languages)\n"
   ]
  },
  {
   "cell_type": "code",
   "execution_count": 78,
   "metadata": {},
   "outputs": [
    {
     "name": "stdout",
     "output_type": "stream",
     "text": [
      "Numero de mensajes en ingles: 445265\n"
     ]
    }
   ],
   "source": [
    "# filter the messages with language 'en'\n",
    "# flt_en = df['language'] == 'en'\n",
    "flt_en = df['language'] == 'en'\n",
    "df = df[flt_en]\n",
    "\n",
    "print(f\"Numero de mensajes en ingles: {df.shape[0]}\")"
   ]
  },
  {
   "cell_type": "markdown",
   "metadata": {},
   "source": [
    "### 2.2. Frecuencias simples"
   ]
  },
  {
   "cell_type": "markdown",
   "metadata": {},
   "source": [
    "#### 2.2.1. Top 10 de conteos"
   ]
  },
  {
   "cell_type": "code",
   "execution_count": 79,
   "metadata": {},
   "outputs": [
    {
     "name": "stdout",
     "output_type": "stream",
     "text": [
      "Top 11 Currency (commodity):\n",
      "01 - N/A: 89170 \t (20.03%  - 20.03%) \t (NaN)\n",
      "02 - BTC: 18192 \t (4.09%  - 24.12%) \t (W/NaN 5.11% - 5.11%)\n",
      "03 - ETH: 11180 \t (2.51%  - 26.63%) \t (W/NaN 3.14% - 8.25%)\n",
      "04 - LTC: 7017 \t (1.58%  - 28.21%) \t (W/NaN 1.97% - 10.22%)\n",
      "05 - DYDX: 4655 \t (1.05%  - 29.26%) \t (W/NaN 1.31% - 11.53%)\n",
      "06 - BNB: 4234 \t (0.95%  - 30.21%) \t (W/NaN 1.19% - 12.72%)\n",
      "07 - ATOM: 3606 \t (0.81%  - 31.02%) \t (W/NaN 1.01% - 13.73%)\n",
      "08 - MATIC: 3582 \t (0.8%  - 31.82%) \t (W/NaN 1.01% - 14.74%)\n",
      "09 - DOGE: 3498 \t (0.79%  - 32.61%) \t (W/NaN 0.98% - 15.72%)\n",
      "10 - AXS: 3453 \t (0.78%  - 33.39%) \t (W/NaN 0.97% - 16.69%)\n",
      "11 - GALA: 3382 \t (0.76%  - 34.15%) \t (W/NaN 0.95% - 17.64%)\n",
      "--------\n",
      "Top 11 Canal (chat_id):\n",
      "01 - 765: 43835 \t (9.84% - 9.84%)\n",
      "02 - 277: 42925 \t (9.64% - 19.48%)\n",
      "03 - 3739: 34819 \t (7.82% - 27.30%)\n",
      "04 - 313: 32040 \t (7.2% - 34.50%)\n",
      "05 - 3720: 27353 \t (6.14% - 40.64%)\n",
      "06 - 3243: 14258 \t (3.2% - 43.84%)\n",
      "07 - 3396: 13501 \t (3.03% - 46.87%)\n",
      "08 - 2985: 11787 \t (2.65% - 49.52%)\n",
      "09 - 3754: 10732 \t (2.41% - 51.93%)\n",
      "10 - 3821: 9073 \t (2.04% - 53.97%)\n",
      "11 - 312: 8809 \t (1.98% - 55.95%)\n",
      "--------\n",
      "Top 11 Users (telegram_user_id):\n",
      "01 - 2605457: 14248 \t (3.2% - 3.20%)\n",
      "02 - 5380: 6853 \t (1.54% - 4.74%)\n",
      "03 - 1514960: 6159 \t (1.38% - 6.12%)\n",
      "04 - 236089: 5870 \t (1.32% - 7.44%)\n",
      "05 - 4184161: 5009 \t (1.12% - 8.56%)\n",
      "06 - 2669582: 4458 \t (1.0% - 9.56%)\n",
      "07 - 611328: 3009 \t (0.68% - 10.24%)\n",
      "08 - 569907: 2857 \t (0.64% - 10.88%)\n",
      "09 - 241922: 2232 \t (0.5% - 11.38%)\n",
      "10 - 1686613: 2162 \t (0.49% - 11.87%)\n",
      "11 - 2083886: 1879 \t (0.42% - 12.29%)\n",
      "--------\n",
      "Top 11 Tipo Operación (trade_type):\n",
      "01 - sell: 265232 \t (59.57%  - 59.57%) \t (W/NaN 59.63% - 59.63%)\n",
      "02 - buy: 131971 \t (29.64%  - 89.21%) \t (W/NaN 29.67% - 89.30%)\n",
      "03 - time: 47595 \t (10.69%  - 99.90%) \t (W/NaN 10.7% - 100.00%)\n",
      "04 - N/A: 467 \t (0.1%  - 100.00%) \t (NaN)\n",
      "--------\n"
     ]
    }
   ],
   "source": [
    "### Frecuencia de variables categóricas\n",
    "print_top(df, 'commodity', \"Currency\", top=11)\n",
    "print(\"--------\")\n",
    "\n",
    "print_top(df, 'chat_id', \"Canal\", top=11)\n",
    "print(\"--------\")\n",
    "\n",
    "print_top(df, 'telegram_user_id', \"Users\", top=11)\n",
    "print(\"--------\")\n",
    "\n",
    "print_top(df, 'trade_type', \"Tipo Operación\", top=11)\n",
    "print(\"--------\")\n"
   ]
  },
  {
   "cell_type": "code",
   "execution_count": 80,
   "metadata": {},
   "outputs": [
    {
     "data": {
      "image/png": "[encoded data removed]",
      "text/plain": [
       "<Figure size 1500x1000 with 4 Axes>"
      ]
     },
     "metadata": {},
     "output_type": "display_data"
    }
   ],
   "source": [
    "columns_to_plot = ['commodity', 'chat_id', 'telegram_user_id', 'trade_type']\n",
    "fig, axes = plt.subplots(2, 2, figsize=(15, 10))\n",
    "\n",
    "axes = axes.flatten()\n",
    "\n",
    "for i, column in enumerate(columns_to_plot):\n",
    "\n",
    "    value_counts = df[column].astype(str).value_counts(dropna=False).head(10)\n",
    "    \n",
    "    # Convert value_counts to a DataFrame\n",
    "    value_counts_df = value_counts.reset_index()\n",
    "    value_counts_df.columns = [column, 'count']\n",
    "    \n",
    "    # Create the barplot\n",
    "    sns.barplot(data=value_counts_df, x='count', y=column, ax=axes[i], orient='h')\n",
    "    axes[i].set_title(f'Top 10 {column} por cantidad de mensajes')\n",
    "    axes[i].set_xlabel('Count')\n",
    "    axes[i].set_ylabel(column)\n",
    "\n",
    "# Adjust layout\n",
    "plt.tight_layout()\n",
    "plt.show()"
   ]
  },
  {
   "cell_type": "markdown",
   "metadata": {},
   "source": [
    "#### 2.2.2. Cruce de variables `telegram_user_id` y `chat_id`"
   ]
  },
  {
   "cell_type": "code",
   "execution_count": 81,
   "metadata": {},
   "outputs": [
    {
     "name": "stdout",
     "output_type": "stream",
     "text": [
      "Number of chat_ids: 1622\n",
      "Number of users: 66217\n"
     ]
    }
   ],
   "source": [
    "# count the number of chat_ids\n",
    "chat_ids = df['chat_id'].nunique()\n",
    "print(f\"Number of chat_ids: {chat_ids}\")\n",
    "\n",
    "# count the number of users\n",
    "users = df['telegram_user_id'].nunique()\n",
    "print(f\"Number of users: {users}\")\n",
    "\n"
   ]
  },
  {
   "cell_type": "code",
   "execution_count": 82,
   "metadata": {},
   "outputs": [
    {
     "name": "stdout",
     "output_type": "stream",
     "text": [
      "Number of chats with a single user: 1220 (75.22%)\n",
      "Number of users with a single chat: 63898 (96.50%)\n"
     ]
    }
   ],
   "source": [
    "# Canales con un solo usuario\n",
    "chat_users = df.groupby('chat_id')['telegram_user_id'].nunique()\n",
    "chat_users = chat_users.sort_values(ascending=False)\n",
    "single_user_chats = chat_users[chat_users == 1]\n",
    "print(f\"Number of chats with a single user: {single_user_chats.count()} ({single_user_chats.count()/chat_ids:.2%})\")\n",
    "\n",
    "\n",
    "# Usuarios con un solo canal\n",
    "user_chats = df.groupby('telegram_user_id')['chat_id'].nunique()\n",
    "user_chats = user_chats.sort_values(ascending=False)\n",
    "single_chat_users = user_chats[user_chats == 1]\n",
    "print(f\"Number of users with a single chat: {single_chat_users.count()} ({single_chat_users.count()/users:.2%})\")\n",
    "\n",
    "\n",
    "# Distribucion de numero de mensajes por canal\n"
   ]
  },
  {
   "cell_type": "code",
   "execution_count": 83,
   "metadata": {},
   "outputs": [
    {
     "name": "stdout",
     "output_type": "stream",
     "text": [
      "Number of chats with more than one user: 402\n",
      "Number of chats with more than one user: 24.78%\n",
      "chat_id\n",
      "3739    10402\n",
      "277      8128\n",
      "3720     7366\n",
      "3396     6200\n",
      "3821     2308\n",
      "        ...  \n",
      "423         2\n",
      "422         2\n",
      "426         2\n",
      "296         2\n",
      "931         2\n",
      "Name: telegram_user_id, Length: 402, dtype: int64\n",
      "--------\n",
      "Number of users with more than one chat: 2319\n",
      "Number of users with more than one chat: 3.50%\n",
      "telegram_user_id\n",
      "5380       58\n",
      "241922     30\n",
      "172966     15\n",
      "2628616     8\n",
      "2628777     7\n",
      "           ..\n",
      "573275      2\n",
      "3835052     2\n",
      "3639049     2\n",
      "2848285     2\n",
      "1303662     2\n",
      "Name: chat_id, Length: 2319, dtype: int64\n"
     ]
    }
   ],
   "source": [
    "# Canales con más de un usuario sort by number of users\n",
    "multi_user_chats = chat_users[chat_users > 1]\n",
    "\n",
    "print(f\"Number of chats with more than one user: {multi_user_chats.count()}\")\n",
    "print(f\"Number of chats with more than one user: {multi_user_chats.count()/chat_ids:.2%}\")\n",
    "print(multi_user_chats)\n",
    "\n",
    "print(\"--------\")\n",
    "\n",
    "# Usuarios con más de un canal\n",
    "multi_chat_users = user_chats[user_chats > 1]\n",
    "print(f\"Number of users with more than one chat: {multi_chat_users.count()}\")\n",
    "print(f\"Number of users with more than one chat: {multi_chat_users.count()/users:.2%}\")\n",
    "print(multi_chat_users)\n",
    "\n",
    "\n"
   ]
  },
  {
   "cell_type": "markdown",
   "metadata": {},
   "source": [
    "### 2.3. Análisis del campo message_text\n",
    "#### 2.3.1. Limpieza de datos y enriquecimiento simple\n",
    "\n",
    "Para continuar con el análisis exploratorio, como indicamos antes, necesitamos realizar una limpieza y enriequecimiento de datos inicial. Vamos a proceder a adicionar las siguientes columnas:\n",
    "- date_source_posted_at: transformación del campo date_source a formato fecha\n",
    "- message_text_clean: aplicar las siguentes transformaciones al message_text\n",
    "    - Clean_lbr: consolidar saltos de linea repetidos en uno solo\n",
    "    - Clean emojis: Remover los emojis\n",
    "- message_text_clean_utf8: convertir message_text_clean a encoding utf8, cuando no sea utf8 o ascii.\n",
    "- message_length: Contar los caracteres de linea de message_text_clean_utf8\n",
    "- message_words: Contar las palabras en el campo message_text_clean_utf8\n",
    "- message_lbr: Contar los salos de linea de message_text_clean_utf8\n",
    "- message_encoding2: identificar el encoding de message_text_clean_utf8\n"
   ]
  },
  {
   "cell_type": "code",
   "execution_count": 84,
   "metadata": {},
   "outputs": [],
   "source": [
    "def clean_lbr(text):\n",
    "    # Replace continuous line breaks with a single line break\n",
    "\n",
    "    # df['message_text_clean_utf8'] = df['message_text_clean_utf8'].parallel_apply\n",
    "    # (lambda x: '\\n'.join(line.strip() for line in x.splitlines() if line.strip()))\n",
    "\n",
    "    try:\n",
    "        cleaned_text = '\\n'.join(line.strip() for line in text.splitlines() if line.strip())\n",
    "    except Exception as e:\n",
    "        print(text, type(text))\n",
    "        print(e)\n",
    "        cleaned_text = text\n",
    "        raise e\n",
    "    return cleaned_text\n",
    "    "
   ]
  },
  {
   "cell_type": "code",
   "execution_count": 88,
   "metadata": {},
   "outputs": [],
   "source": [
    "import re\n",
    "\n",
    "def remove_special_characters(text):\n",
    "    try: \n",
    "        # Remove special characters\n",
    "        cleaned_text = re.sub(r'[^a-zA-Z0-9@\\s]', ' ', text)\n",
    "        # trim leading and trailing spaces\n",
    "        cleaned_text = cleaned_text.strip()\n",
    "        # Replace continuous spaces with a single space\n",
    "        cleaned_text = re.sub(r'\\s+', ' ', cleaned_text)\n",
    "    except Exception as e:\n",
    "        print(text, type(text))\n",
    "        print(e)\n",
    "        cleaned_text = text\n",
    "        raise e\n",
    "    return cleaned_text\n"
   ]
  },
  {
   "cell_type": "code",
   "execution_count": 93,
   "metadata": {},
   "outputs": [
    {
     "name": "stdout",
     "output_type": "stream",
     "text": [
      "<class 'pandas.core.frame.DataFrame'>\n",
      "Index: 445265 entries, 586854 to 452459\n",
      "Data columns (total 12 columns):\n",
      " #   Column                   Non-Null Count   Dtype              \n",
      "---  ------                   --------------   -----              \n",
      " 0   id                       445265 non-null  int64              \n",
      " 1   commodity                356095 non-null  object             \n",
      " 2   source_posted_at         445265 non-null  object             \n",
      " 3   trade_type               444798 non-null  object             \n",
      " 4   chat_id                  445265 non-null  int64              \n",
      " 5   telegram_user_id         445265 non-null  int64              \n",
      " 6   message_text             445265 non-null  object             \n",
      " 7   message_text_translated  1170 non-null    object             \n",
      " 8   language                 445265 non-null  object             \n",
      " 9   id_msg                   445265 non-null  int64              \n",
      " 10  date_source_posted_at    445265 non-null  datetime64[ns, UTC]\n",
      " 11  message_text_clean       445265 non-null  object             \n",
      "dtypes: datetime64[ns, UTC](1), int64(4), object(7)\n",
      "memory usage: 44.2+ MB\n"
     ]
    }
   ],
   "source": [
    "df.info()"
   ]
  },
  {
   "cell_type": "code",
   "execution_count": 91,
   "metadata": {},
   "outputs": [],
   "source": [
    "\n",
    "# def remove_emojis_tmp(text):\n",
    "#     try:\n",
    "#         cleaned_text = emoji.replace_emoji(text, '')\n",
    "#     except Exception as e:\n",
    "#         print(text, type(text))\n",
    "#         print(e)\n",
    "#         cleaned_text = text\n",
    "#         raise e\n",
    "#     return cleaned_text\n"
   ]
  },
  {
   "cell_type": "code",
   "execution_count": 96,
   "metadata": {},
   "outputs": [
    {
     "name": "stdout",
     "output_type": "stream",
     "text": [
      "Cleaning Emojis\n",
      "Cleaning Commodities\n",
      "Detecting encoding\n",
      "Convert to utf-8\n",
      "Cleaning LBR\n",
      "Checking message length\n",
      "Checking message words\n",
      "Checking message LBRs\n",
      "Store the processed data\n"
     ]
    }
   ],
   "source": [
    "force_process = False\n",
    "\n",
    "if 'message_length' not in df.columns or force_process :\n",
    "\n",
    "    df['date_source_posted_at'] = pd.to_datetime(df['source_posted_at'])\n",
    "\n",
    "    # sort the data by chat_id and date_source_posted_at\n",
    "    df = df.sort_values(by=['chat_id', 'date_source_posted_at'])\n",
    "\n",
    "    ### Limpieza sobre el encoding original de los mensajes ###\n",
    "    ###########################################################\n",
    "\n",
    "    # Eliminar emojis y añadir columna message_no_emoji\n",
    "    print(\"Cleaning Emojis\")\n",
    "    df['message_text_clean'] = df['message_text'].parallel_apply(remove_emojis).str.strip().str.lower()\n",
    "    \n",
    "    \n",
    "    \n",
    "    print(\"Cleaning Commodities\")\n",
    "    flt = df['commodity'].notnull()\n",
    "    df.loc[flt, 'commodity_clean'] = df[flt]['commodity'].parallel_apply(remove_emojis).str.strip().str.lower()\n",
    "    df.loc[flt, 'commodity_clean'] = df[flt]['commodity_clean'].parallel_apply(remove_special_characters)\n",
    "\n",
    "    \n",
    "    # # Detect the encoding of messages in the field message_text_clean of type string\\\n",
    "    print(\"Detecting encoding\")\n",
    "    df['message_encoding'] = df['message_text_clean'].parallel_apply(lambda x: chardet.detect(x.encode())['encoding'])\n",
    "\n",
    "\n",
    "    ### Limpieza sobre el encoding utf8 ###\n",
    "    #######################################\n",
    "    df['message_text_clean_utf8'] = df['message_text_clean']\n",
    "\n",
    "    # # convert the all the messages to utf-8 where the encoding is different form utf-8\n",
    "    print(\"Convert to utf-8\")\n",
    "    flt = df['message_encoding'] != 'utf-8'\n",
    "    df.loc[flt, 'message_text_clean_utf8'] = df[flt]['message_text_clean'].apply(lambda x: unidecode(x))\n",
    "\n",
    "    # print(\"Detecting encoding on new utf-8 messages\")\n",
    "    # df['message_encoding2'] = df['message_text_clean_utf8'].parallel_apply(lambda x: chardet.detect(x.encode())['encoding'])\n",
    "\n",
    "    # Trim and remove multiple line breaks\n",
    "    print(\"Cleaning LBR\")\n",
    "    df['message_text_clean_utf8'] = df['message_text_clean_utf8'].parallel_apply(clean_lbr)\n",
    "\n",
    "    # Añadir columna con la longitud del mensaje sin emojis\n",
    "    print(\"Checking message length\")\n",
    "    df['message_length'] = df['message_text_clean_utf8'].str.len()\n",
    "\n",
    "    # Añadir columna con el número de palabras\n",
    "    print(\"Checking message words\")\n",
    "    df['message_words'] = df['message_text_clean_utf8'].parallel_apply(lambda x: len(x.split()))\n",
    "\n",
    "    # Añadir columna con el número de saltos de línea\n",
    "    print(\"Checking message LBRs\")\n",
    "    df['message_lbr'] = df['message_text_clean_utf8'].parallel_apply(count_line_breaks)\n",
    "\n",
    "    print(\"Store the processed data\")\n",
    "    df.to_csv(work_file, index=False)\n"
   ]
  },
  {
   "cell_type": "code",
   "execution_count": 97,
   "metadata": {},
   "outputs": [
    {
     "name": "stdout",
     "output_type": "stream",
     "text": [
      "Number of messages with a length of 0: 0\n"
     ]
    }
   ],
   "source": [
    "# find messages with a length of 0\n",
    "zero_length = df['message_length'] == 0\n",
    "print(f\"Number of messages with a length of 0: {zero_length.sum()}\")\n",
    "\n",
    "# drop messages with a length of 0\n",
    "df = df[~zero_length]\n",
    "df.to_csv(work_file, index=False)\n"
   ]
  },
  {
   "cell_type": "markdown",
   "metadata": {},
   "source": [
    "#### 2.3.3. Mensajes duplicados"
   ]
  },
  {
   "cell_type": "code",
   "execution_count": 98,
   "metadata": {},
   "outputs": [
    {
     "name": "stdout",
     "output_type": "stream",
     "text": [
      "Number of duplicated messages: 191703\n",
      "Percentage of duplicated messages: 43.05%\n",
      "--------\n"
     ]
    }
   ],
   "source": [
    "# Find duplicated messages \n",
    "duplicated_messages = df[df.duplicated(subset=['message_text_clean_utf8'], keep=False)]\n",
    "duplicated_messages = duplicated_messages.sort_values(by=['message_text_clean_utf8'])\n",
    "print(f\"Number of duplicated messages: {duplicated_messages.shape[0]}\")\n",
    "# percentage of duplicated messages\n",
    "print(f\"Percentage of duplicated messages: {duplicated_messages.shape[0]/df.shape[0]:.2%}\")\n",
    "print(\"--------\")\n"
   ]
  },
  {
   "cell_type": "code",
   "execution_count": 99,
   "metadata": {},
   "outputs": [
    {
     "data": {
      "text/plain": [
       "202248    202248\n",
       "450603    450603\n",
       "569735    569735\n",
       "222152    222152\n",
       "778088    778088\n",
       "Name: id_msg, dtype: int64"
      ]
     },
     "execution_count": 99,
     "metadata": {},
     "output_type": "execute_result"
    }
   ],
   "source": [
    "duplicated_messages.head(5)['id_msg']"
   ]
  },
  {
   "cell_type": "markdown",
   "metadata": {},
   "source": [
    "Si vemos mensajes duplicados en una ventana pequeña de tiempo podemos asumir que son el mismo mensaje y quedarnos con uno."
   ]
  },
  {
   "cell_type": "code",
   "execution_count": 100,
   "metadata": {},
   "outputs": [
    {
     "name": "stdout",
     "output_type": "stream",
     "text": [
      "Number of duplicates_near: 9069\n",
      "Percentage of duplicates_near: 2.04%\n"
     ]
    },
    {
     "data": {
      "text/html": [
       "<div>\n",
       "<style scoped>\n",
       "    .dataframe tbody tr th:only-of-type {\n",
       "        vertical-align: middle;\n",
       "    }\n",
       "\n",
       "    .dataframe tbody tr th {\n",
       "        vertical-align: top;\n",
       "    }\n",
       "\n",
       "    .dataframe thead th {\n",
       "        text-align: right;\n",
       "    }\n",
       "</style>\n",
       "<table border=\"1\" class=\"dataframe\">\n",
       "  <thead>\n",
       "    <tr style=\"text-align: right;\">\n",
       "      <th></th>\n",
       "      <th>chat_id</th>\n",
       "      <th>date_source_posted_at</th>\n",
       "      <th>message_text_clean_utf8</th>\n",
       "      <th>time_diff</th>\n",
       "      <th>duplicates</th>\n",
       "      <th>duplicates_near</th>\n",
       "      <th>duplicate_count</th>\n",
       "    </tr>\n",
       "  </thead>\n",
       "  <tbody>\n",
       "    <tr>\n",
       "      <th>441682</th>\n",
       "      <td>5</td>\n",
       "      <td>2022-05-18 07:40:24+00:00</td>\n",
       "      <td>amazing one more quick profit for vip members ...</td>\n",
       "      <td>6 days 18:08:51</td>\n",
       "      <td>True</td>\n",
       "      <td>False</td>\n",
       "      <td>6</td>\n",
       "    </tr>\n",
       "    <tr>\n",
       "      <th>441694</th>\n",
       "      <td>5</td>\n",
       "      <td>2022-05-18 07:40:24+00:00</td>\n",
       "      <td>amazing one more quick profit for vip members ...</td>\n",
       "      <td>0 days 00:00:00</td>\n",
       "      <td>True</td>\n",
       "      <td>True</td>\n",
       "      <td>6</td>\n",
       "    </tr>\n",
       "    <tr>\n",
       "      <th>196590</th>\n",
       "      <td>5</td>\n",
       "      <td>2022-03-04 22:02:56+00:00</td>\n",
       "      <td>amazing one more quick profit for vip members ...</td>\n",
       "      <td>NaT</td>\n",
       "      <td>True</td>\n",
       "      <td>False</td>\n",
       "      <td>2</td>\n",
       "    </tr>\n",
       "    <tr>\n",
       "      <th>196598</th>\n",
       "      <td>5</td>\n",
       "      <td>2022-03-04 22:02:56+00:00</td>\n",
       "      <td>amazing one more quick profit for vip members ...</td>\n",
       "      <td>0 days 00:00:00</td>\n",
       "      <td>True</td>\n",
       "      <td>True</td>\n",
       "      <td>2</td>\n",
       "    </tr>\n",
       "    <tr>\n",
       "      <th>895806</th>\n",
       "      <td>5</td>\n",
       "      <td>2022-08-26 12:30:16+00:00</td>\n",
       "      <td>another big profit for vip's</td>\n",
       "      <td>NaT</td>\n",
       "      <td>True</td>\n",
       "      <td>False</td>\n",
       "      <td>2</td>\n",
       "    </tr>\n",
       "    <tr>\n",
       "      <th>895810</th>\n",
       "      <td>5</td>\n",
       "      <td>2022-08-26 12:30:16+00:00</td>\n",
       "      <td>another big profit for vip's</td>\n",
       "      <td>0 days 00:00:00</td>\n",
       "      <td>True</td>\n",
       "      <td>True</td>\n",
       "      <td>2</td>\n",
       "    </tr>\n",
       "    <tr>\n",
       "      <th>895051</th>\n",
       "      <td>5</td>\n",
       "      <td>2022-08-26 12:35:47+00:00</td>\n",
       "      <td>another profit for vip holders</td>\n",
       "      <td>NaT</td>\n",
       "      <td>True</td>\n",
       "      <td>False</td>\n",
       "      <td>2</td>\n",
       "    </tr>\n",
       "    <tr>\n",
       "      <th>895193</th>\n",
       "      <td>5</td>\n",
       "      <td>2022-08-26 12:35:47+00:00</td>\n",
       "      <td>another profit for vip holders</td>\n",
       "      <td>0 days 00:00:00</td>\n",
       "      <td>True</td>\n",
       "      <td>True</td>\n",
       "      <td>2</td>\n",
       "    </tr>\n",
       "    <tr>\n",
       "      <th>759999</th>\n",
       "      <td>5</td>\n",
       "      <td>2022-08-28 10:45:51+00:00</td>\n",
       "      <td>another profit for vip members in few days</td>\n",
       "      <td>NaT</td>\n",
       "      <td>True</td>\n",
       "      <td>False</td>\n",
       "      <td>2</td>\n",
       "    </tr>\n",
       "    <tr>\n",
       "      <th>760074</th>\n",
       "      <td>5</td>\n",
       "      <td>2022-08-28 10:45:51+00:00</td>\n",
       "      <td>another profit for vip members in few days</td>\n",
       "      <td>0 days 00:00:00</td>\n",
       "      <td>True</td>\n",
       "      <td>True</td>\n",
       "      <td>2</td>\n",
       "    </tr>\n",
       "  </tbody>\n",
       "</table>\n",
       "</div>"
      ],
      "text/plain": [
       "        chat_id     date_source_posted_at  \\\n",
       "441682        5 2022-05-18 07:40:24+00:00   \n",
       "441694        5 2022-05-18 07:40:24+00:00   \n",
       "196590        5 2022-03-04 22:02:56+00:00   \n",
       "196598        5 2022-03-04 22:02:56+00:00   \n",
       "895806        5 2022-08-26 12:30:16+00:00   \n",
       "895810        5 2022-08-26 12:30:16+00:00   \n",
       "895051        5 2022-08-26 12:35:47+00:00   \n",
       "895193        5 2022-08-26 12:35:47+00:00   \n",
       "759999        5 2022-08-28 10:45:51+00:00   \n",
       "760074        5 2022-08-28 10:45:51+00:00   \n",
       "\n",
       "                                  message_text_clean_utf8       time_diff  \\\n",
       "441682  amazing one more quick profit for vip members ... 6 days 18:08:51   \n",
       "441694  amazing one more quick profit for vip members ... 0 days 00:00:00   \n",
       "196590  amazing one more quick profit for vip members ...             NaT   \n",
       "196598  amazing one more quick profit for vip members ... 0 days 00:00:00   \n",
       "895806                       another big profit for vip's             NaT   \n",
       "895810                       another big profit for vip's 0 days 00:00:00   \n",
       "895051                     another profit for vip holders             NaT   \n",
       "895193                     another profit for vip holders 0 days 00:00:00   \n",
       "759999         another profit for vip members in few days             NaT   \n",
       "760074         another profit for vip members in few days 0 days 00:00:00   \n",
       "\n",
       "        duplicates  duplicates_near  duplicate_count  \n",
       "441682        True            False                6  \n",
       "441694        True             True                6  \n",
       "196590        True            False                2  \n",
       "196598        True             True                2  \n",
       "895806        True            False                2  \n",
       "895810        True             True                2  \n",
       "895051        True            False                2  \n",
       "895193        True             True                2  \n",
       "759999        True            False                2  \n",
       "760074        True             True                2  "
      ]
     },
     "execution_count": 100,
     "metadata": {},
     "output_type": "execute_result"
    }
   ],
   "source": [
    "# repeated_window\n",
    "repeated_window = 1 # Window where to consider repeated messages within the same chat_id a repeated messaged\n",
    "\n",
    "df = df.sort_values(by=['chat_id', 'message_text_clean_utf8', 'date_source_posted_at'])\n",
    "\n",
    "# Group by chat_id and find the time difference between consecutive messages\n",
    "# df['time_diff'] = df.groupby('chat_id', 'message_text_clean_utf8')['date_source_posted_at'].diff()\n",
    "df['time_diff'] = df.groupby(['chat_id', 'message_text_clean_utf8'])['date_source_posted_at'].diff( )\n",
    "\n",
    "\n",
    "# Mark duplicates as those with a time difference less than 5 minutes (300 seconds) and the same message text\n",
    "df['duplicates'] = df['message_text_clean_utf8'].duplicated(keep=False)\n",
    "df['duplicate_count'] = df.groupby(['chat_id', 'message_text_clean_utf8'])['id_msg'].transform('count')\n",
    "df['duplicates_near'] = (df['time_diff'] <= pd.Timedelta(minutes=repeated_window)) & (df['message_text_clean_utf8'].duplicated(keep='first'))\n",
    "# df['duplicates_near2'] = ((df['time_diff'].dt.total_seconds()/60) <= repeated_window) & (df['message_text_clean_utf8'].duplicated(keep='first'))\n",
    "\n",
    "\n",
    "cols_check = ['chat_id', 'date_source_posted_at', 'message_text_clean_utf8', 'time_diff', 'duplicates', 'duplicates_near', 'duplicate_count']\n",
    "\n",
    "\n",
    "# Keep only the first message in the case of duplicates\n",
    "# df_filtered = df[~df['duplicate']]\n",
    "\n",
    "# Drop helper columns if not needed\n",
    "# df_filtered = df_filtered.drop(columns=['time_diff', 'duplicate'])\n",
    "\n",
    "# count the number of duplicates_near\n",
    "duplicates_near = df['duplicates_near'].sum()\n",
    "print(f\"Number of duplicates_near: {duplicates_near}\")\n",
    "print(f\"Percentage of duplicates_near: {duplicates_near/df.shape[0]:.2%}\")\n",
    "\n",
    "flt_duplicates = df['duplicates']\n",
    "df[flt_duplicates][cols_check].sort_values(by=['chat_id', 'message_text_clean_utf8', 'date_source_posted_at']).head(600).tail(10)"
   ]
  },
  {
   "cell_type": "code",
   "execution_count": 101,
   "metadata": {},
   "outputs": [],
   "source": [
    "# Remove duplicates_near\n",
    "df = df[~df['duplicates_near']]\n",
    "\n",
    "work_file = f\"data/{base_name}_enhanced_nodup.csv\"\n",
    "df.to_csv(work_file, index=False)"
   ]
  },
  {
   "cell_type": "markdown",
   "metadata": {},
   "source": [
    "#### 2.3.4. Longitudes de texto\n",
    "En esta revisión trabajaremos con las columnas de logitudes de texto adionadas:\n",
    "- message_length\n",
    "- message_lbr\n",
    "- message_words"
   ]
  },
  {
   "cell_type": "code",
   "execution_count": 102,
   "metadata": {},
   "outputs": [
    {
     "data": {
      "image/png": "[encoded data removed]",
      "text/plain": [
       "<Figure size 2000x600 with 4 Axes>"
      ]
     },
     "metadata": {},
     "output_type": "display_data"
    }
   ],
   "source": [
    "# Generate a distribution plots for message_length and message_lbr\n",
    "# the plots should one next to the other\n",
    "# we need to be able to set the size of the plots\n",
    "# the plots should have a title\n",
    "# the plots should have labels for the x and y axis\n",
    "\n",
    "fig, axs = plt.subplots(2, 2, figsize=(20, 6))\n",
    "sns.histplot(data=df, x='message_length', ax=axs[0,0])\n",
    "axs[0,0].set_title('Message Length Distribution')\n",
    "axs[0,0].set_xlabel('Message Length')\n",
    "axs[0,0].set_ylabel('Count')\n",
    "axs[0,0].set_yscale('log')\n",
    "\n",
    "sns.histplot(data=df, x='message_words', ax=axs[0,1])\n",
    "axs[0,1].set_title('Message words Distribution')\n",
    "axs[0,1].set_xlabel('Message words Breaks')\n",
    "axs[0,1].set_ylabel('Count')\n",
    "axs[0,1].set_yscale('log')\n",
    "\n",
    "sns.histplot(data=df, x='message_lbr', ax=axs[1,0])\n",
    "axs[1,0].set_title('Message Line Breaks Distribution')\n",
    "axs[1,0].set_xlabel('Message Line Breaks')\n",
    "axs[1,0].set_ylabel('Count')\n",
    "axs[1,0].set_yscale('log')\n",
    "\n",
    "plt.show()"
   ]
  },
  {
   "cell_type": "markdown",
   "metadata": {},
   "source": [
    "Como es esperable, hay una alta concentración de mensajes cortos, pocas palabras y saltos de linea.\n",
    "Revisaremos más de cerca los datos con valores abitrarios para hacer un rango más acotado. Vemos que existen outliers en todas las distribuciones, los cuales podríamos analizar en más detalle."
   ]
  },
  {
   "cell_type": "code",
   "execution_count": 103,
   "metadata": {},
   "outputs": [
    {
     "data": {
      "text/html": [
       "<div>\n",
       "<style scoped>\n",
       "    .dataframe tbody tr th:only-of-type {\n",
       "        vertical-align: middle;\n",
       "    }\n",
       "\n",
       "    .dataframe tbody tr th {\n",
       "        vertical-align: top;\n",
       "    }\n",
       "\n",
       "    .dataframe thead th {\n",
       "        text-align: right;\n",
       "    }\n",
       "</style>\n",
       "<table border=\"1\" class=\"dataframe\">\n",
       "  <thead>\n",
       "    <tr style=\"text-align: right;\">\n",
       "      <th></th>\n",
       "      <th>message_length</th>\n",
       "      <th>message_words</th>\n",
       "      <th>message_lbr</th>\n",
       "    </tr>\n",
       "  </thead>\n",
       "  <tbody>\n",
       "    <tr>\n",
       "      <th>count</th>\n",
       "      <td>436196.000000</td>\n",
       "      <td>436196.000000</td>\n",
       "      <td>436196.000000</td>\n",
       "    </tr>\n",
       "    <tr>\n",
       "      <th>mean</th>\n",
       "      <td>271.049205</td>\n",
       "      <td>41.294514</td>\n",
       "      <td>7.450373</td>\n",
       "    </tr>\n",
       "    <tr>\n",
       "      <th>std</th>\n",
       "      <td>404.832121</td>\n",
       "      <td>60.380047</td>\n",
       "      <td>13.628714</td>\n",
       "    </tr>\n",
       "    <tr>\n",
       "      <th>min</th>\n",
       "      <td>1.000000</td>\n",
       "      <td>1.000000</td>\n",
       "      <td>0.000000</td>\n",
       "    </tr>\n",
       "    <tr>\n",
       "      <th>25%</th>\n",
       "      <td>42.000000</td>\n",
       "      <td>7.000000</td>\n",
       "      <td>0.000000</td>\n",
       "    </tr>\n",
       "    <tr>\n",
       "      <th>50%</th>\n",
       "      <td>107.000000</td>\n",
       "      <td>17.000000</td>\n",
       "      <td>1.000000</td>\n",
       "    </tr>\n",
       "    <tr>\n",
       "      <th>75%</th>\n",
       "      <td>338.000000</td>\n",
       "      <td>51.000000</td>\n",
       "      <td>10.000000</td>\n",
       "    </tr>\n",
       "    <tr>\n",
       "      <th>max</th>\n",
       "      <td>4093.000000</td>\n",
       "      <td>797.000000</td>\n",
       "      <td>309.000000</td>\n",
       "    </tr>\n",
       "  </tbody>\n",
       "</table>\n",
       "</div>"
      ],
      "text/plain": [
       "       message_length  message_words    message_lbr\n",
       "count   436196.000000  436196.000000  436196.000000\n",
       "mean       271.049205      41.294514       7.450373\n",
       "std        404.832121      60.380047      13.628714\n",
       "min          1.000000       1.000000       0.000000\n",
       "25%         42.000000       7.000000       0.000000\n",
       "50%        107.000000      17.000000       1.000000\n",
       "75%        338.000000      51.000000      10.000000\n",
       "max       4093.000000     797.000000     309.000000"
      ]
     },
     "execution_count": 103,
     "metadata": {},
     "output_type": "execute_result"
    }
   ],
   "source": [
    "df[['message_length', 'message_words', 'message_lbr']].describe()"
   ]
  },
  {
   "cell_type": "code",
   "execution_count": 104,
   "metadata": {},
   "outputs": [
    {
     "data": {
      "image/png": "[encoded data removed]",
      "text/plain": [
       "<Figure size 2000x600 with 4 Axes>"
      ]
     },
     "metadata": {},
     "output_type": "display_data"
    }
   ],
   "source": [
    "fig, axs = plt.subplots(2, 2, figsize=(20, 6))\n",
    "\n",
    "flt_ml = df['message_length'] < 170\n",
    "sns.histplot(data=df[flt_ml], x='message_length', ax=axs[0,0])\n",
    "axs[0,0].set_title('Message Length Distribution')\n",
    "axs[0,0].set_xlabel('Message Length')\n",
    "axs[0,0].set_ylabel('Count')\n",
    "axs[0,0].set_yscale('log')\n",
    "\n",
    "flt_mw = df['message_words'] < 100\n",
    "sns.histplot(data=df[flt_mw], x='message_words', ax=axs[0,1])\n",
    "axs[0,1].set_title('Message words Distribution')\n",
    "axs[0,1].set_xlabel('Message words Breaks')\n",
    "axs[0,1].set_ylabel('Count')\n",
    "axs[0,1].set_yscale('log')\n",
    "\n",
    "flt_mbr = (df['message_lbr'] < 25) & (df['message_lbr'] >= 0) \n",
    "sns.histplot(data=df[flt_mbr], x='message_lbr', ax=axs[1,0])\n",
    "axs[1,0].set_title('Message Line Breaks Distribution')\n",
    "axs[1,0].set_xlabel('Message Line Breaks')\n",
    "axs[1,0].set_ylabel('Count')\n",
    "axs[1,0].set_yscale('log')\n",
    "\n",
    "plt.show()"
   ]
  },
  {
   "cell_type": "code",
   "execution_count": 105,
   "metadata": {},
   "outputs": [
    {
     "name": "stdout",
     "output_type": "stream",
     "text": [
      "Top 5 LBR (message_lbr):\n",
      "01 - 0: 184547 \t (42.31% - 42.31%)\n",
      "02 - 1: 33699 \t (7.73% - 50.04%)\n",
      "03 - 2: 25431 \t (5.83% - 55.87%)\n",
      "04 - 3: 16117 \t (3.69% - 59.56%)\n",
      "05 - 4: 14241 \t (3.26% - 62.82%)\n"
     ]
    }
   ],
   "source": [
    "print_top(df, 'message_lbr', \"LBR\", top=5)"
   ]
  },
  {
   "cell_type": "code",
   "execution_count": 107,
   "metadata": {},
   "outputs": [],
   "source": []
  },
  {
   "cell_type": "code",
   "execution_count": null,
   "metadata": {},
   "outputs": [],
   "source": []
  },
  {
   "cell_type": "code",
   "execution_count": 108,
   "metadata": {},
   "outputs": [
    {
     "name": "stdout",
     "output_type": "stream",
     "text": [
      "Top 5 Words (message_words):\n",
      "01 - 4: 17899 \t (4.1% - 4.10%)\n",
      "02 - 5: 17544 \t (4.02% - 8.12%)\n",
      "03 - 7: 17033 \t (3.9% - 12.02%)\n",
      "04 - 13: 16380 \t (3.76% - 15.78%)\n",
      "05 - 6: 16075 \t (3.69% - 19.47%)\n"
     ]
    }
   ],
   "source": [
    "print_top(df, 'message_words', \"Words\", top=5)"
   ]
  },
  {
   "cell_type": "code",
   "execution_count": 109,
   "metadata": {},
   "outputs": [
    {
     "data": {
      "image/png": "[encoded data removed]",
      "text/plain": [
       "<Figure size 500x500 with 6 Axes>"
      ]
     },
     "metadata": {},
     "output_type": "display_data"
    }
   ],
   "source": [
    "flt = flt_ml & flt_mw & flt_mbr\n",
    "sns.pairplot(data=df[flt][['message_words', 'message_lbr']])\n",
    "plt.show()"
   ]
  },
  {
   "cell_type": "markdown",
   "metadata": {},
   "source": [
    "## Preprocesamiento vectorización"
   ]
  },
  {
   "cell_type": "markdown",
   "metadata": {},
   "source": [
    "Para la comparación de mensajes es necesario vectorizar los mismos, este proceso requiere de una limpieza de datos adicional."
   ]
  },
  {
   "cell_type": "code",
   "execution_count": 110,
   "metadata": {},
   "outputs": [],
   "source": [
    "# Instalación de las bibliotecas necesarias\n",
    "import os\n",
    "import nltk\n",
    "# import spacy\n",
    "import pandas as pd\n",
    "import re\n",
    "import networkx as nx\n",
    "from nltk.tokenize import word_tokenize\n",
    "from nltk.corpus import stopwords\n",
    "from nltk.stem import WordNetLemmatizer\n",
    "from sklearn.feature_extraction.text import CountVectorizer\n",
    "from sklearn.feature_extraction.text import TfidfVectorizer\n",
    "from sklearn.metrics.pairwise import cosine_similarity\n"
   ]
  },
  {
   "cell_type": "code",
   "execution_count": 111,
   "metadata": {},
   "outputs": [],
   "source": [
    "df_sim = df"
   ]
  },
  {
   "cell_type": "code",
   "execution_count": 112,
   "metadata": {},
   "outputs": [],
   "source": [
    "def create_word_bins(df, bins=[0, 1, 2, 3, 4, 5, 6, 7, 8, 9, \n",
    "                               10, 11, 12, 13, 14, 15, 16, 17, 18, 19, \n",
    "                               20, 21, 22, 23, 24, 25, 26, 27, 28, 29, np.inf]):\n",
    "    \"\"\"\n",
    "    Function to bin the word count into categories.\n",
    "    You can modify 'bins' based on your use case.\n",
    "    \"\"\"\n",
    "    # Create a new column 'word_bin' based on the number of words\n",
    "    df['word_bin'] = pd.cut(df['message_words'], bins=bins, labels=False, right=False)\n",
    "    return df"
   ]
  },
  {
   "cell_type": "code",
   "execution_count": 113,
   "metadata": {},
   "outputs": [],
   "source": [
    "\n",
    "stop_words = set(nltk.corpus.stopwords.words('english'))\n",
    "\n",
    "def preprocess(text, stop_words=stop_words):\n",
    "\n",
    "    text = text.lower()\n",
    "    # tokenizar el texto\n",
    "    text = text.replace('\\n', ' LBRMARK ')\n",
    "\n",
    "    \n",
    "    text_tokens = word_tokenize(text)\n",
    "    # replace numbers with a placeholder\n",
    "    # print(text_tokens)\n",
    "    text_tokens_rst = text_tokens.copy() \n",
    "    i = -1\n",
    "    for token in text_tokens:\n",
    "        i += 1\n",
    "        token = re.sub(r'\\s+', ' ', token)\n",
    "\n",
    "        if token in stop_words:\n",
    "            # remove the token from the list\n",
    "            text_tokens_rst.pop(i)\n",
    "            i -= 1\n",
    "            # text_tokens_rst[i] = '{STOP_WORD}'\n",
    "            continue\n",
    "\n",
    "        if is_number(token):\n",
    "            text_tokens_rst[i] = '{NUM}'\n",
    "            continue\n",
    "\n",
    "        if is_date(token):\n",
    "            text_tokens_rst[i] = '{DATE}'\n",
    "            continue\n",
    "\n",
    "        tmp_token = re.sub(r'[^a-zA-Z0-9@\\s]', ' ', token)  # eliminar caracteres especiales\n",
    "        if tmp_token == token:\n",
    "            continue\n",
    "        text_tokens_rst[i] = preprocess(tmp_token)\n",
    "\n",
    "    text = ' '.join(text_tokens_rst)\n",
    "    # print(text)\n",
    "\n",
    "    # text = re.sub(r'[^a-zA-Z0-9@\\s]', ' ', text)  # eliminar caracteres especiales\n",
    "    # remove multiple spaces\n",
    "    text = re.sub(r'\\s+', ' ', text)\n",
    "    # print(text)\n",
    "\n",
    "    text = text.replace(' LBRMARK ', '\\n')\n",
    "    text = text.replace('LBRMARK', '\\n')\n",
    "    text = clean_lbr(text)\n",
    "    return text\n",
    "\n",
    "\n",
    "# df['tokenized_nltk'] = df['cleaned'].apply(word_tokenize)\n",
    "\n",
    "# aclarar que se usa un dataset expandido\n",
    "# Evolucion temporal con los meses con más mensajes\n",
    "# conteo de users y chat_ids\n",
    "# Mensajes por tipo de operación\n",
    "\n",
    "\n"
   ]
  },
  {
   "cell_type": "code",
   "execution_count": 114,
   "metadata": {},
   "outputs": [],
   "source": [
    "# nltk.download('punkt_tab')\n"
   ]
  },
  {
   "cell_type": "code",
   "execution_count": 115,
   "metadata": {},
   "outputs": [
    {
     "name": "stdout",
     "output_type": "stream",
     "text": [
      "Cleaning messages\n",
      "Error checking date with: 6114172758m\n",
      "signed integer is greater than maximum\n",
      "Error checking date with: 6006491614109629746:0708\n",
      "signed integer is greater than maximum\n",
      "Error checking date with: 6006491614097847730:7917\n",
      "signed integer is greater than maximum\n",
      "Error checking date with: 6006491614115473931:3890\n",
      "signed integer is greater than maximum\n",
      "Error checking date with: 6006491614078897142:7516\n",
      "signed integer is greater than maximum\n",
      "Error checking date with: 6006491614089677384:9177\n",
      "signed integer is greater than maximum\n",
      "Error checking date with: 6006491614102651200:8747\n",
      "signed integer is greater than maximum\n",
      "Error checking date with: 6006491614084973804:5433\n",
      "signed integer is greater than maximum\n",
      "Error checking date with: 6006491614098519775:8573\n",
      "signed integer is greater than maximum\n",
      "Error checking date with: 6006491614098254910:0608\n",
      "signed integer is greater than maximum\n",
      "Error checking date with: 6006491614096392704:7889\n",
      "signed integer is greater than maximum\n",
      "Error checking date with: 6006491614103996257:6535\n",
      "signed integer is greater than maximum\n",
      "Error checking date with: 6006491614104310334:0750\n",
      "signed integer is greater than maximum\n",
      "Error checking date with: 6006491614115580545:3352\n",
      "signed integer is greater than maximum\n",
      "Error checking date with: 6006491614084465322:7307\n",
      "signed integer is greater than maximum\n",
      "Error checking date with: 6006491614115636024:6478\n",
      "signed integer is greater than maximum\n",
      "Error checking date with: 6006491614092299655:9713\n",
      "signed integer is greater than maximum\n",
      "Error checking date with: 6006491614115584851:6497\n",
      "signed integer is greater than maximum\n",
      "Error checking date with: 6006491614077854193:9340\n",
      "signed integer is greater than maximum\n",
      "Error checking date with: 6006491614104014043:5234\n",
      "signed integer is greater than maximum\n",
      "Error checking date with: 6006491614096920801:8652\n",
      "signed integer is greater than maximum\n",
      "Error checking date with: 6006491614118063796:5007\n",
      "signed integer is greater than maximum\n",
      "Error checking date with: 6006491614093238975:4425\n",
      "signed integer is greater than maximum\n",
      "Error checking date with: 6006491614118166615:1182\n",
      "signed integer is greater than maximum\n",
      "Error checking date with: 6006491614115876026:4414\n",
      "signed integer is greater than maximum\n",
      "Error checking date with: 6006491614115699139:6086\n",
      "signed integer is greater than maximum\n",
      "Error checking date with: 09688727059,09796571900\n",
      "signed integer is greater than maximum\n",
      "Error checking date with: .09688727059,09796571900\n",
      "signed integer is greater than maximum\n",
      "Error checking date with: .09688727059,09796571900\n",
      "signed integer is greater than maximum\n",
      "Error checking date with: .09688727059,09796571900\n",
      "signed integer is greater than maximum\n",
      "Error checking date with: .09688727059,09796571900\n",
      "signed integer is greater than maximum\n",
      "Error checking date with: .09688727059,09796571900\n",
      "signed integer is greater than maximum\n",
      "Error checking date with: .09688727059,09796571900\n",
      "signed integer is greater than maximum\n",
      "Error checking date with: .09688727059,09796571900\n",
      "signed integer is greater than maximum\n",
      "Error checking date with: .09688727059,09796571900\n",
      "signed integer is greater than maximum\n",
      "Error checking date with: .09688727059,09796571900\n",
      "signed integer is greater than maximum\n",
      "Error checking date with: .09688727059,09796571900\n",
      "signed integer is greater than maximum\n",
      "Error checking date with: 09789550481,09791424203\n",
      "signed integer is greater than maximum\n",
      "Error checking date with: 09789550481,09791424203\n",
      "signed integer is greater than maximum\n",
      "Error checking date with: 09789550481,09791424203\n",
      "signed integer is greater than maximum\n",
      "Error checking date with: 09789550481,09791424203\n",
      "signed integer is greater than maximum\n",
      "Error checking date with: 09789550481,09791424203\n",
      "signed integer is greater than maximum\n",
      "Error checking date with: 09789550481,09791424203\n",
      "signed integer is greater than maximum\n",
      "Error checking date with: 09789550481,09791424203\n",
      "signed integer is greater than maximum\n",
      "Error checking date with: 09789550481,09791424203\n",
      "signed integer is greater than maximum\n",
      "Error checking date with: 09789550481,09791424203\n",
      "signed integer is greater than maximum\n",
      "Error checking date with: 09789550481,09791424203\n",
      "signed integer is greater than maximum\n",
      "Error checking date with: 09789550481,09791424203\n",
      "signed integer is greater than maximum\n",
      "Error checking date with: -09784063382/\n",
      "signed integer is greater than maximum\n",
      "Checking message words\n",
      "Checking message LBRs\n",
      "Creating word bins\n"
     ]
    }
   ],
   "source": [
    "force_process = True\n",
    "\n",
    "if 'cleaned_sim' not in df_sim.columns or force_process:\n",
    "    df_sim.rename(columns={'message_lbr': 'message_lbr_utf8'}, inplace=True)\n",
    "    df_sim.rename(columns={'message_words': 'message_words_utf8'}, inplace=True)\n",
    "\n",
    "    print(\"Cleaning messages\")\n",
    "    # # apply preprocess to the messages df_sim['message_text_clean_utf8']\n",
    "    df_sim['cleaned_sim'] = df_sim['message_text_clean_utf8'].apply(preprocess)\n",
    "    \n",
    "\n",
    "    # Añadir columna con el número de palabras\n",
    "    print(\"Checking message words\")\n",
    "    df_sim['message_words'] = df_sim['cleaned_sim'].parallel_apply(lambda x: len(x.split()))\n",
    "\n",
    "    # Añadir columna con el número de saltos de línea\n",
    "    print(\"Checking message LBRs\")\n",
    "    df_sim['message_lbr'] = df_sim['cleaned_sim'].parallel_apply(count_line_breaks)\n",
    "\n",
    "    print(\"Creating word bins\")\n",
    "    df_sim = create_word_bins(df_sim)\n",
    "\n"
   ]
  },
  {
   "cell_type": "code",
   "execution_count": 121,
   "metadata": {},
   "outputs": [
    {
     "name": "stdout",
     "output_type": "stream",
     "text": [
      "Messages with no words: 2905\n"
     ]
    }
   ],
   "source": [
    "#filter the messages with a length of 0\n",
    "no_words = df_sim['message_words'] == 0\n",
    "print(f\"Messages with no words: {no_words.sum()}\")\n",
    "\n",
    "# drop messages with no words\n",
    "df_sim = df_sim[~no_words]"
   ]
  },
  {
   "cell_type": "code",
   "execution_count": 179,
   "metadata": {},
   "outputs": [
    {
     "name": "stdout",
     "output_type": "stream",
     "text": [
      "<class 'pandas.core.frame.DataFrame'>\n",
      "Index: 433292 entries, 760412 to commodity_in_message\n",
      "Data columns (total 27 columns):\n",
      " #   Column                   Non-Null Count   Dtype              \n",
      "---  ------                   --------------   -----              \n",
      " 0   id                       433291 non-null  float64            \n",
      " 1   commodity                345960 non-null  object             \n",
      " 2   source_posted_at         433291 non-null  object             \n",
      " 3   trade_type               432858 non-null  object             \n",
      " 4   chat_id                  433291 non-null  float64            \n",
      " 5   telegram_user_id         433291 non-null  float64            \n",
      " 6   message_text             433291 non-null  object             \n",
      " 7   message_text_translated  1126 non-null    object             \n",
      " 8   language                 433291 non-null  object             \n",
      " 9   id_msg                   433291 non-null  float64            \n",
      " 10  date_source_posted_at    433291 non-null  datetime64[ns, UTC]\n",
      " 11  message_text_clean       433291 non-null  object             \n",
      " 12  commodity_clean          345960 non-null  object             \n",
      " 13  message_encoding         433037 non-null  object             \n",
      " 14  message_text_clean_utf8  433291 non-null  object             \n",
      " 15  message_length           433291 non-null  float64            \n",
      " 16  message_words_utf8       433291 non-null  float64            \n",
      " 17  message_lbr_utf8         433291 non-null  float64            \n",
      " 18  time_diff                156355 non-null  timedelta64[ns]    \n",
      " 19  duplicates               433291 non-null  object             \n",
      " 20  duplicate_count          433291 non-null  float64            \n",
      " 21  duplicates_near          433291 non-null  object             \n",
      " 22  cleaned_sim              433291 non-null  object             \n",
      " 23  message_words            433291 non-null  float64            \n",
      " 24  message_lbr              433291 non-null  float64            \n",
      " 25  word_bin                 433291 non-null  float64            \n",
      " 26  commodity_in_message     433291 non-null  object             \n",
      "dtypes: datetime64[ns, UTC](1), float64(11), object(14), timedelta64[ns](1)\n",
      "memory usage: 108.7+ MB\n"
     ]
    }
   ],
   "source": [
    "df_sim.info()"
   ]
  },
  {
   "cell_type": "code",
   "execution_count": 125,
   "metadata": {},
   "outputs": [],
   "source": [
    "# Add a colum to check  if cleaned_sim contains commodity_clean\n",
    "# filter commodities with no nan values\n",
    "df['commodity_in_message'] = df.apply(\n",
    "    lambda row: row['commodity_clean'] in row['cleaned_sim'] if pd.notnull(row['commodity_clean']) else False,\n",
    "    axis=1\n",
    ")\n",
    "\n"
   ]
  },
  {
   "cell_type": "code",
   "execution_count": 135,
   "metadata": {},
   "outputs": [],
   "source": [
    "# get the list of comooodities without nan values\n",
    "commodities = df['commodity_clean'].unique()\n",
    "commodities = commodities[~pd.isnull(commodities)]\n",
    "commodities = commodities.tolist()\n",
    "\n",
    "# convert the commodities to lower case\n",
    "commodities = [commodity.lower() for commodity in commodities]\n",
    "\n",
    "commodities\n",
    "# Remove commodities with length <3\n",
    "commodities = [commodity for commodity in commodities if len(commodity) > 2]\n",
    "\n",
    "# remove commodities in the list of stop words\n",
    "stop_words = ['...']\n",
    "commodities = [commodity for commodity in commodities if commodity not in stop_words]\n",
    "\n",
    "# commodities"
   ]
  },
  {
   "cell_type": "code",
   "execution_count": 138,
   "metadata": {},
   "outputs": [],
   "source": [
    "df_sim = df_sim.copy()"
   ]
  },
  {
   "cell_type": "code",
   "execution_count": 144,
   "metadata": {},
   "outputs": [],
   "source": [
    "\n",
    "# print(df)"
   ]
  },
  {
   "cell_type": "code",
   "execution_count": 302,
   "metadata": {},
   "outputs": [],
   "source": [
    "# # filter cleaned_sim that start with 'breakout coin' or 'coin name'\n",
    "# phrases = ['breakout coin :', 'coin name :', 'usdt']\n",
    "\n",
    "# # Filter rows where cleaned_sim contains any of the specified phrases\n",
    "# # flt = df_sim['cleaned_sim'].str.contains('|'.join(phrases), case=False, na=False)\n",
    "# # filter by message_lbr > 10 < 20\n",
    "# flt = (df_sim['message_lbr'] > 10) & (df_sim['message_lbr'] < 20)\n",
    "# filtered_df = df_sim[flt]\n",
    "\n",
    "# top = 250\n",
    "# filtered_df[cols].head(top).tail(10)\n",
    "# # .shape[0]\n",
    "# #loop through filtered_df and print cleaned_sim\tmessage_text_clean_utf8\tmatched_commodities\tmatched_commodities2\n",
    "# for index, row in filtered_df[cols].head(top).tail(10).iterrows():\n",
    "#     print(\"=\"*25)\n",
    "#     # print(row['cleaned_sim'])\n",
    "#     print(row['message_text_clean_utf8'])\n",
    "#     print(\"--------\")\n",
    "#     print(row['trade_type'])\n",
    "#     print(row['matched_exchanges'])\n",
    "#     print(row['matched_commodities2'])\n",
    "\n",
    "#     print(\"=\"*25)\n",
    "\n",
    "\n"
   ]
  },
  {
   "cell_type": "code",
   "execution_count": 259,
   "metadata": {},
   "outputs": [],
   "source": [
    "import requests\n",
    "import json\n",
    "\n",
    "exchange_file = 'data/exchanges.json'\n",
    "if not os.path.exists(exchange_file):\n",
    "    url = \"https://api.coingecko.com/api/v3/exchanges\"\n",
    "    response = requests.get(url)\n",
    "    exchanges = response.json()\n",
    "    # write the exchanges to a file\n",
    "    with open(exchange_file, 'w') as f:\n",
    "        json.dump(exchanges, f)\n",
    "else:\n",
    "    with open(exchange_file, 'r') as f:\n",
    "        exchanges = json.load(f)\n",
    "\n",
    "exchanges_names = [remove_emojis(exchange['name'].lower()) for exchange in exchanges] \n",
    "\n",
    "\n",
    "crypto_file = 'data/crypto_list.json'\n",
    "if not os.path.exists(crypto_file):\n",
    "    url = \"https://api.coingecko.com/api/v3/coins/list\"\n",
    "    response = requests.get(url)\n",
    "    crypto_list = response.json()\n",
    "    # write the crypto_list to a file\n",
    "    with open(crypto_file, 'w') as f:\n",
    "        json.dump(crypto_list, f)\n",
    "else:\n",
    "    with open(crypto_file, 'r') as f:\n",
    "        crypto_list = json.load(f)\n",
    "\n",
    "crypto_list_names = [remove_emojis(crypto['symbol'].lower()) for crypto in crypto_list]\n",
    "crypto_list_names = [commodity for commodity in list(set(crypto_list_names)) if len(commodity) > 2]\n",
    "# get the list of exchanges\n"
   ]
  },
  {
   "cell_type": "code",
   "execution_count": 297,
   "metadata": {},
   "outputs": [],
   "source": [
    "pattern_exchange = re.compile(r'\\b(' + '|'.join(re.escape(exchange) for exchange in exchanges_names) + r')\\b', re.IGNORECASE)\n",
    "\n",
    "def find_exchange(text):\n",
    "    try:\n",
    "        exchanges = pattern_exchange.findall(text)\n",
    "        if len(exchanges) == 0:\n",
    "            return np.nan\n",
    "    except Exception as e:\n",
    "        print(text, type(text))\n",
    "        print(e)\n",
    "        exchanges = np.nan\n",
    "        raise e\n",
    "    return exchanges\n",
    "\n",
    "df_sim['matched_exchanges'] = df_sim['cleaned_sim'].parallel_apply(lambda x: find_exchange(x))\n"
   ]
  },
  {
   "cell_type": "code",
   "execution_count": 276,
   "metadata": {},
   "outputs": [],
   "source": [
    "\n",
    "# Regex pattern\n",
    "\n",
    "def find_commodity2(text):\n",
    "    \n",
    "    pattern = re.compile(r\"(\\b\\w+?)(?=[/]?(usdt|btc|eth)\\b)\")\n",
    "    try:\n",
    "        matches = pattern.findall(text)\n",
    "        if len(matches) == 0:\n",
    "            return np.nan\n",
    "        extracted_matches = [match[0] for match in matches]\n",
    "        # remove trailing _ and - from the extracted matches\n",
    "        extracted_matches = [re.sub(r'[-_]+$', '', match) for match in extracted_matches]\n",
    "\n",
    "    except Exception as e:\n",
    "        print(text, type(text))\n",
    "        print(e)\n",
    "        exchanges = np.nan\n",
    "        raise e\n",
    "    return extracted_matches\n",
    "\n",
    "\n",
    "\n",
    "df_sim['matched_commodities2'] = df_sim['message_text_clean_utf8'].parallel_apply(lambda x: find_commodity2(x))\n",
    "\n"
   ]
  },
  {
   "cell_type": "code",
   "execution_count": 277,
   "metadata": {},
   "outputs": [],
   "source": [
    "pattern_comm = re.compile(r'\\b(' + '|'.join(re.escape(commodity) for commodity in crypto_list_names) + r')\\b', re.IGNORECASE)\n",
    "\n",
    "def find_commodity(text):\n",
    "    # remove NUM and DATE\n",
    "    text = re.sub(r'{NUM}', '', text)\n",
    "    text = re.sub(r'{DATE}', '', text)\n",
    "    \n",
    "\n",
    "    try:\n",
    "        exchanges = pattern_comm.findall(text)\n",
    "        if len(exchanges) == 0:\n",
    "            return np.nan\n",
    "    except Exception as e:\n",
    "        print(text, type(text))\n",
    "        print(e)\n",
    "        exchanges = np.nan\n",
    "        raise e\n",
    "    return exchanges\n",
    "\n",
    "df_sim['matched_exchanges'] = df_sim['cleaned_sim'].parallel_apply(lambda x: find_exchange(x))\n"
   ]
  },
  {
   "cell_type": "code",
   "execution_count": 303,
   "metadata": {},
   "outputs": [],
   "source": [
    "\n",
    "cols = ['cleaned_sim', 'message_text_clean_utf8', 'matched_commodities','matched_commodities2', 'matched_exchanges', 'trade_type', 'message_words', 'message_lbr']\n",
    "flt =(~df_sim['matched_commodities2'].isnull())\n",
    "flt = flt | (~df_sim['matched_exchanges'].isnull())\n",
    "flt = flt | (df_sim['trade_type'] == 'time')\n",
    "df_sim_flt = df_sim[flt]\n",
    "\n"
   ]
  },
  {
   "cell_type": "code",
   "execution_count": 304,
   "metadata": {},
   "outputs": [
    {
     "data": {
      "image/png": "[encoded data removed]",
      "text/plain": [
       "<Figure size 1000x600 with 1 Axes>"
      ]
     },
     "metadata": {},
     "output_type": "display_data"
    }
   ],
   "source": [
    "# barplot of trade_type\n",
    "sns.countplot(data=df_sim_flt, x='trade_type')\n",
    "plt.show()\n"
   ]
  },
  {
   "cell_type": "code",
   "execution_count": 305,
   "metadata": {},
   "outputs": [
    {
     "name": "stdout",
     "output_type": "stream",
     "text": [
      "Store the processed data\n"
     ]
    }
   ],
   "source": [
    "print(\"Store the processed data\")\n",
    "work_file = f\"data/{base_name}_pre-processed.csv\"\n",
    "df_sim_flt.to_csv(work_file, index=False)\n"
   ]
  }
 ],
 "metadata": {
  "colab": {
   "include_colab_link": true,
   "provenance": []
  },
  "kernelspec": {
   "display_name": "mentoria-3.10.14",
   "language": "python",
   "name": "python3"
  },
  "language_info": {
   "codemirror_mode": {
    "name": "ipython",
    "version": 3
   },
   "file_extension": ".py",
   "mimetype": "text/x-python",
   "name": "python",
   "nbconvert_exporter": "python",
   "pygments_lexer": "ipython3",
   "version": "3.10.14"
  }
 },
 "nbformat": 4,
 "nbformat_minor": 4
}
